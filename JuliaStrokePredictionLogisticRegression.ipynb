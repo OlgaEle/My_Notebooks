{
 "cells": [
  {
   "cell_type": "code",
   "execution_count": 1,
   "id": "2ae657c4",
   "metadata": {},
   "outputs": [],
   "source": [
    "#Import Packages\n",
    "using Pkg\n",
    "using DataFrames\n",
    "using CSV\n",
    "using StatsBase\n",
    "using GLM\n",
    "using Lathe\n",
    "using MLBase\n",
    "using ClassImbalance\n",
    "using ScikitLearn"
   ]
  },
  {
   "cell_type": "code",
   "execution_count": 2,
   "id": "423feeaa",
   "metadata": {},
   "outputs": [
    {
     "data": {
      "text/plain": [
       "1000"
      ]
     },
     "execution_count": 2,
     "metadata": {},
     "output_type": "execute_result"
    }
   ],
   "source": [
    "#Enable printing of 1000 columns\n",
    "ENV[\"COLUMNS\"] = 1000"
   ]
  },
  {
   "cell_type": "code",
   "execution_count": 3,
   "id": "c242e76f",
   "metadata": {},
   "outputs": [
    {
     "data": {
      "text/html": [
       "<table class=\"data-frame\"><thead><tr><th></th><th>id</th><th>gender</th><th>age</th><th>hypertension</th><th>heart_disease</th><th>ever_married</th><th>work_type</th><th>Residence_type</th><th>avg_glucose_level</th><th>bmi</th><th>smoking_status</th><th>stroke</th></tr><tr><th></th><th>Int64</th><th>String7</th><th>Float64</th><th>Int64</th><th>Int64</th><th>String3</th><th>String15</th><th>String7</th><th>Float64</th><th>String7</th><th>String15</th><th>Int64</th></tr></thead><tbody><p>5 rows × 12 columns</p><tr><th>1</th><td>9046</td><td>Male</td><td>67.0</td><td>0</td><td>1</td><td>Yes</td><td>Private</td><td>Urban</td><td>228.69</td><td>36.6</td><td>formerly smoked</td><td>1</td></tr><tr><th>2</th><td>51676</td><td>Female</td><td>61.0</td><td>0</td><td>0</td><td>Yes</td><td>Self-employed</td><td>Rural</td><td>202.21</td><td>N/A</td><td>never smoked</td><td>1</td></tr><tr><th>3</th><td>31112</td><td>Male</td><td>80.0</td><td>0</td><td>1</td><td>Yes</td><td>Private</td><td>Rural</td><td>105.92</td><td>32.5</td><td>never smoked</td><td>1</td></tr><tr><th>4</th><td>60182</td><td>Female</td><td>49.0</td><td>0</td><td>0</td><td>Yes</td><td>Private</td><td>Urban</td><td>171.23</td><td>34.4</td><td>smokes</td><td>1</td></tr><tr><th>5</th><td>1665</td><td>Female</td><td>79.0</td><td>1</td><td>0</td><td>Yes</td><td>Self-employed</td><td>Rural</td><td>174.12</td><td>24</td><td>never smoked</td><td>1</td></tr></tbody></table>"
      ],
      "text/latex": [
       "\\begin{tabular}{r|cccccccccccc}\n",
       "\t& id & gender & age & hypertension & heart\\_disease & ever\\_married & work\\_type & Residence\\_type & avg\\_glucose\\_level & bmi & smoking\\_status & stroke\\\\\n",
       "\t\\hline\n",
       "\t& Int64 & String7 & Float64 & Int64 & Int64 & String3 & String15 & String7 & Float64 & String7 & String15 & Int64\\\\\n",
       "\t\\hline\n",
       "\t1 & 9046 & Male & 67.0 & 0 & 1 & Yes & Private & Urban & 228.69 & 36.6 & formerly smoked & 1 \\\\\n",
       "\t2 & 51676 & Female & 61.0 & 0 & 0 & Yes & Self-employed & Rural & 202.21 & N/A & never smoked & 1 \\\\\n",
       "\t3 & 31112 & Male & 80.0 & 0 & 1 & Yes & Private & Rural & 105.92 & 32.5 & never smoked & 1 \\\\\n",
       "\t4 & 60182 & Female & 49.0 & 0 & 0 & Yes & Private & Urban & 171.23 & 34.4 & smokes & 1 \\\\\n",
       "\t5 & 1665 & Female & 79.0 & 1 & 0 & Yes & Self-employed & Rural & 174.12 & 24 & never smoked & 1 \\\\\n",
       "\\end{tabular}\n"
      ],
      "text/plain": [
       "5×12 typename(DataFrame)\n",
       "│ Row │ id    │ gender  │ age     │ hypertension │ heart_disease │ ever_married │ work_type     │ Residence_type │ avg_glucose_level │ bmi     │ smoking_status  │ stroke │\n",
       "│     │ \u001b[90mInt64\u001b[39m │ \u001b[90mString7\u001b[39m │ \u001b[90mFloat64\u001b[39m │ \u001b[90mInt64\u001b[39m        │ \u001b[90mInt64\u001b[39m         │ \u001b[90mString3\u001b[39m      │ \u001b[90mString15\u001b[39m      │ \u001b[90mString7\u001b[39m        │ \u001b[90mFloat64\u001b[39m           │ \u001b[90mString7\u001b[39m │ \u001b[90mString15\u001b[39m        │ \u001b[90mInt64\u001b[39m  │\n",
       "├─────┼───────┼─────────┼─────────┼──────────────┼───────────────┼──────────────┼───────────────┼────────────────┼───────────────────┼─────────┼─────────────────┼────────┤\n",
       "│ 1   │ 9046  │ Male    │ 67.0    │ 0            │ 1             │ Yes          │ Private       │ Urban          │ 228.69            │ 36.6    │ formerly smoked │ 1      │\n",
       "│ 2   │ 51676 │ Female  │ 61.0    │ 0            │ 0             │ Yes          │ Self-employed │ Rural          │ 202.21            │ N/A     │ never smoked    │ 1      │\n",
       "│ 3   │ 31112 │ Male    │ 80.0    │ 0            │ 1             │ Yes          │ Private       │ Rural          │ 105.92            │ 32.5    │ never smoked    │ 1      │\n",
       "│ 4   │ 60182 │ Female  │ 49.0    │ 0            │ 0             │ Yes          │ Private       │ Urban          │ 171.23            │ 34.4    │ smokes          │ 1      │\n",
       "│ 5   │ 1665  │ Female  │ 79.0    │ 1            │ 0             │ Yes          │ Self-employed │ Rural          │ 174.12            │ 24      │ never smoked    │ 1      │"
      ]
     },
     "execution_count": 3,
     "metadata": {},
     "output_type": "execute_result"
    }
   ],
   "source": [
    "#Load our data\n",
    "df = CSV.read(\"C:\\\\Users\\\\olgak\\\\Documents\\\\df.csv\", DataFrame)\n",
    "first(df,5)"
   ]
  },
  {
   "cell_type": "code",
   "execution_count": 4,
   "id": "a1e5da4a",
   "metadata": {},
   "outputs": [
    {
     "data": {
      "text/plain": [
       "12-element Vector{Symbol}:\n",
       " :id\n",
       " :gender\n",
       " :age\n",
       " :hypertension\n",
       " :heart_disease\n",
       " :ever_married\n",
       " :work_type\n",
       " :Residence_type\n",
       " :avg_glucose_level\n",
       " :bmi\n",
       " :smoking_status\n",
       " :stroke"
      ]
     },
     "execution_count": 4,
     "metadata": {},
     "output_type": "execute_result"
    }
   ],
   "source": [
    "#See the names of our variables\n",
    "names(df)"
   ]
  },
  {
   "cell_type": "code",
   "execution_count": 5,
   "id": "1e35fdad",
   "metadata": {},
   "outputs": [
    {
     "data": {
      "text/plain": [
       "12-element Vector{Int64}:\n",
       " 0\n",
       " 0\n",
       " 0\n",
       " 0\n",
       " 0\n",
       " 0\n",
       " 0\n",
       " 0\n",
       " 0\n",
       " 0\n",
       " 0\n",
       " 0"
      ]
     },
     "execution_count": 5,
     "metadata": {},
     "output_type": "execute_result"
    }
   ],
   "source": [
    "#Check for missing values\n",
    "[count(ismissing,col) for col in eachcol(df)]"
   ]
  },
  {
   "cell_type": "code",
   "execution_count": 6,
   "id": "3c182226",
   "metadata": {},
   "outputs": [
    {
     "data": {
      "text/plain": [
       "12-element Vector{DataType}:\n",
       " Int64\n",
       " String7\n",
       " Float64\n",
       " Int64\n",
       " Int64\n",
       " String3\n",
       " String15\n",
       " String7\n",
       " Float64\n",
       " String7\n",
       " String15\n",
       " Int64"
      ]
     },
     "execution_count": 6,
     "metadata": {},
     "output_type": "execute_result"
    }
   ],
   "source": [
    "#Check variables' type \n",
    "eltype.(eachcol(df))"
   ]
  },
  {
   "cell_type": "code",
   "execution_count": 7,
   "id": "5cd443b8",
   "metadata": {},
   "outputs": [
    {
     "data": {
      "text/plain": [
       "5110-element PooledArrays.PooledVector{String, UInt32, Vector{UInt32}}:\n",
       " \"36.6\"\n",
       " \"0\"\n",
       " \"32.5\"\n",
       " \"34.4\"\n",
       " \"24\"\n",
       " \"29\"\n",
       " \"27.4\"\n",
       " \"22.8\"\n",
       " \"0\"\n",
       " \"24.2\"\n",
       " \"29.7\"\n",
       " \"36.8\"\n",
       " \"27.3\"\n",
       " ⋮\n",
       " \"17.5\"\n",
       " \"0\"\n",
       " \"28.3\"\n",
       " \"24.5\"\n",
       " \"21.7\"\n",
       " \"46.9\"\n",
       " \"18.6\"\n",
       " \"0\"\n",
       " \"40\"\n",
       " \"30.6\"\n",
       " \"25.6\"\n",
       " \"26.2\""
      ]
     },
     "execution_count": 7,
     "metadata": {},
     "output_type": "execute_result"
    }
   ],
   "source": [
    "bmi = replace(df.bmi, \"N/A\" => \"0\")"
   ]
  },
  {
   "cell_type": "code",
   "execution_count": 8,
   "id": "44fe54a6",
   "metadata": {},
   "outputs": [
    {
     "data": {
      "text/plain": [
       "5110-element Vector{Float64}:\n",
       " 36.6\n",
       "  0.0\n",
       " 32.5\n",
       " 34.4\n",
       " 24.0\n",
       " 29.0\n",
       " 27.4\n",
       " 22.8\n",
       "  0.0\n",
       " 24.2\n",
       " 29.7\n",
       " 36.8\n",
       " 27.3\n",
       "  ⋮\n",
       " 17.5\n",
       "  0.0\n",
       " 28.3\n",
       " 24.5\n",
       " 21.7\n",
       " 46.9\n",
       " 18.6\n",
       "  0.0\n",
       " 40.0\n",
       " 30.6\n",
       " 25.6\n",
       " 26.2"
      ]
     },
     "execution_count": 8,
     "metadata": {},
     "output_type": "execute_result"
    }
   ],
   "source": [
    "df.bmi = parse.(Float64, bmi)"
   ]
  },
  {
   "cell_type": "code",
   "execution_count": 9,
   "id": "8fa77c8a",
   "metadata": {},
   "outputs": [
    {
     "data": {
      "text/plain": [
       "4909-element PooledArrays.PooledVector{String, UInt32, Vector{UInt32}}:\n",
       " \"36.6\"\n",
       " \"32.5\"\n",
       " \"34.4\"\n",
       " \"24\"\n",
       " \"29\"\n",
       " \"27.4\"\n",
       " \"22.8\"\n",
       " \"24.2\"\n",
       " \"29.7\"\n",
       " \"36.8\"\n",
       " \"27.3\"\n",
       " \"28.2\"\n",
       " \"30.9\"\n",
       " ⋮\n",
       " \"28.2\"\n",
       " \"40.8\"\n",
       " \"17.5\"\n",
       " \"28.3\"\n",
       " \"24.5\"\n",
       " \"21.7\"\n",
       " \"46.9\"\n",
       " \"18.6\"\n",
       " \"40\"\n",
       " \"30.6\"\n",
       " \"25.6\"\n",
       " \"26.2\""
      ]
     },
     "execution_count": 9,
     "metadata": {},
     "output_type": "execute_result"
    }
   ],
   "source": [
    "nm = deleteat!(bmi, findall(bmi->bmi==0.0,df.bmi))"
   ]
  },
  {
   "cell_type": "code",
   "execution_count": 10,
   "id": "ede81bec",
   "metadata": {},
   "outputs": [
    {
     "data": {
      "text/plain": [
       "4909-element Vector{Float64}:\n",
       " 36.6\n",
       " 32.5\n",
       " 34.4\n",
       " 24.0\n",
       " 29.0\n",
       " 27.4\n",
       " 22.8\n",
       " 24.2\n",
       " 29.7\n",
       " 36.8\n",
       " 27.3\n",
       " 28.2\n",
       " 30.9\n",
       "  ⋮\n",
       " 28.2\n",
       " 40.8\n",
       " 17.5\n",
       " 28.3\n",
       " 24.5\n",
       " 21.7\n",
       " 46.9\n",
       " 18.6\n",
       " 40.0\n",
       " 30.6\n",
       " 25.6\n",
       " 26.2"
      ]
     },
     "execution_count": 10,
     "metadata": {},
     "output_type": "execute_result"
    }
   ],
   "source": [
    "nmm = parse.(Float64, nm)"
   ]
  },
  {
   "cell_type": "code",
   "execution_count": 11,
   "id": "8d315eb2",
   "metadata": {},
   "outputs": [
    {
     "data": {
      "text/html": [
       "<table class=\"data-frame\"><thead><tr><th></th><th>id</th><th>gender</th><th>age</th><th>hypertension</th><th>heart_disease</th><th>ever_married</th><th>work_type</th><th>Residence_type</th><th>avg_glucose_level</th><th>bmi</th><th>smoking_status</th><th>stroke</th></tr><tr><th></th><th>Int64</th><th>String7</th><th>Float64</th><th>Int64</th><th>Int64</th><th>String3</th><th>String15</th><th>String7</th><th>Float64</th><th>Float64</th><th>String15</th><th>Int64</th></tr></thead><tbody><p>5,110 rows × 12 columns</p><tr><th>1</th><td>9046</td><td>Male</td><td>67.0</td><td>0</td><td>1</td><td>Yes</td><td>Private</td><td>Urban</td><td>228.69</td><td>36.6</td><td>formerly smoked</td><td>1</td></tr><tr><th>2</th><td>51676</td><td>Female</td><td>61.0</td><td>0</td><td>0</td><td>Yes</td><td>Self-employed</td><td>Rural</td><td>202.21</td><td>0.0</td><td>never smoked</td><td>1</td></tr><tr><th>3</th><td>31112</td><td>Male</td><td>80.0</td><td>0</td><td>1</td><td>Yes</td><td>Private</td><td>Rural</td><td>105.92</td><td>32.5</td><td>never smoked</td><td>1</td></tr><tr><th>4</th><td>60182</td><td>Female</td><td>49.0</td><td>0</td><td>0</td><td>Yes</td><td>Private</td><td>Urban</td><td>171.23</td><td>34.4</td><td>smokes</td><td>1</td></tr><tr><th>5</th><td>1665</td><td>Female</td><td>79.0</td><td>1</td><td>0</td><td>Yes</td><td>Self-employed</td><td>Rural</td><td>174.12</td><td>24.0</td><td>never smoked</td><td>1</td></tr><tr><th>6</th><td>56669</td><td>Male</td><td>81.0</td><td>0</td><td>0</td><td>Yes</td><td>Private</td><td>Urban</td><td>186.21</td><td>29.0</td><td>formerly smoked</td><td>1</td></tr><tr><th>7</th><td>53882</td><td>Male</td><td>74.0</td><td>1</td><td>1</td><td>Yes</td><td>Private</td><td>Rural</td><td>70.09</td><td>27.4</td><td>never smoked</td><td>1</td></tr><tr><th>8</th><td>10434</td><td>Female</td><td>69.0</td><td>0</td><td>0</td><td>No</td><td>Private</td><td>Urban</td><td>94.39</td><td>22.8</td><td>never smoked</td><td>1</td></tr><tr><th>9</th><td>27419</td><td>Female</td><td>59.0</td><td>0</td><td>0</td><td>Yes</td><td>Private</td><td>Rural</td><td>76.15</td><td>0.0</td><td>Unknown</td><td>1</td></tr><tr><th>10</th><td>60491</td><td>Female</td><td>78.0</td><td>0</td><td>0</td><td>Yes</td><td>Private</td><td>Urban</td><td>58.57</td><td>24.2</td><td>Unknown</td><td>1</td></tr><tr><th>11</th><td>12109</td><td>Female</td><td>81.0</td><td>1</td><td>0</td><td>Yes</td><td>Private</td><td>Rural</td><td>80.43</td><td>29.7</td><td>never smoked</td><td>1</td></tr><tr><th>12</th><td>12095</td><td>Female</td><td>61.0</td><td>0</td><td>1</td><td>Yes</td><td>Govt_job</td><td>Rural</td><td>120.46</td><td>36.8</td><td>smokes</td><td>1</td></tr><tr><th>13</th><td>12175</td><td>Female</td><td>54.0</td><td>0</td><td>0</td><td>Yes</td><td>Private</td><td>Urban</td><td>104.51</td><td>27.3</td><td>smokes</td><td>1</td></tr><tr><th>14</th><td>8213</td><td>Male</td><td>78.0</td><td>0</td><td>1</td><td>Yes</td><td>Private</td><td>Urban</td><td>219.84</td><td>0.0</td><td>Unknown</td><td>1</td></tr><tr><th>15</th><td>5317</td><td>Female</td><td>79.0</td><td>0</td><td>1</td><td>Yes</td><td>Private</td><td>Urban</td><td>214.09</td><td>28.2</td><td>never smoked</td><td>1</td></tr><tr><th>16</th><td>58202</td><td>Female</td><td>50.0</td><td>1</td><td>0</td><td>Yes</td><td>Self-employed</td><td>Rural</td><td>167.41</td><td>30.9</td><td>never smoked</td><td>1</td></tr><tr><th>17</th><td>56112</td><td>Male</td><td>64.0</td><td>0</td><td>1</td><td>Yes</td><td>Private</td><td>Urban</td><td>191.61</td><td>37.5</td><td>smokes</td><td>1</td></tr><tr><th>18</th><td>34120</td><td>Male</td><td>75.0</td><td>1</td><td>0</td><td>Yes</td><td>Private</td><td>Urban</td><td>221.29</td><td>25.8</td><td>smokes</td><td>1</td></tr><tr><th>19</th><td>27458</td><td>Female</td><td>60.0</td><td>0</td><td>0</td><td>No</td><td>Private</td><td>Urban</td><td>89.22</td><td>37.8</td><td>never smoked</td><td>1</td></tr><tr><th>20</th><td>25226</td><td>Male</td><td>57.0</td><td>0</td><td>1</td><td>No</td><td>Govt_job</td><td>Urban</td><td>217.08</td><td>0.0</td><td>Unknown</td><td>1</td></tr><tr><th>21</th><td>70630</td><td>Female</td><td>71.0</td><td>0</td><td>0</td><td>Yes</td><td>Govt_job</td><td>Rural</td><td>193.94</td><td>22.4</td><td>smokes</td><td>1</td></tr><tr><th>22</th><td>13861</td><td>Female</td><td>52.0</td><td>1</td><td>0</td><td>Yes</td><td>Self-employed</td><td>Urban</td><td>233.29</td><td>48.9</td><td>never smoked</td><td>1</td></tr><tr><th>23</th><td>68794</td><td>Female</td><td>79.0</td><td>0</td><td>0</td><td>Yes</td><td>Self-employed</td><td>Urban</td><td>228.7</td><td>26.6</td><td>never smoked</td><td>1</td></tr><tr><th>24</th><td>64778</td><td>Male</td><td>82.0</td><td>0</td><td>1</td><td>Yes</td><td>Private</td><td>Rural</td><td>208.3</td><td>32.5</td><td>Unknown</td><td>1</td></tr><tr><th>25</th><td>4219</td><td>Male</td><td>71.0</td><td>0</td><td>0</td><td>Yes</td><td>Private</td><td>Urban</td><td>102.87</td><td>27.2</td><td>formerly smoked</td><td>1</td></tr><tr><th>26</th><td>70822</td><td>Male</td><td>80.0</td><td>0</td><td>0</td><td>Yes</td><td>Self-employed</td><td>Rural</td><td>104.12</td><td>23.5</td><td>never smoked</td><td>1</td></tr><tr><th>27</th><td>38047</td><td>Female</td><td>65.0</td><td>0</td><td>0</td><td>Yes</td><td>Private</td><td>Rural</td><td>100.98</td><td>28.2</td><td>formerly smoked</td><td>1</td></tr><tr><th>28</th><td>61843</td><td>Male</td><td>58.0</td><td>0</td><td>0</td><td>Yes</td><td>Private</td><td>Rural</td><td>189.84</td><td>0.0</td><td>Unknown</td><td>1</td></tr><tr><th>29</th><td>54827</td><td>Male</td><td>69.0</td><td>0</td><td>1</td><td>Yes</td><td>Self-employed</td><td>Urban</td><td>195.23</td><td>28.3</td><td>smokes</td><td>1</td></tr><tr><th>30</th><td>69160</td><td>Male</td><td>59.0</td><td>0</td><td>0</td><td>Yes</td><td>Private</td><td>Rural</td><td>211.78</td><td>0.0</td><td>formerly smoked</td><td>1</td></tr><tr><th>&vellip;</th><td>&vellip;</td><td>&vellip;</td><td>&vellip;</td><td>&vellip;</td><td>&vellip;</td><td>&vellip;</td><td>&vellip;</td><td>&vellip;</td><td>&vellip;</td><td>&vellip;</td><td>&vellip;</td><td>&vellip;</td></tr></tbody></table>"
      ],
      "text/latex": [
       "\\begin{tabular}{r|cccccccccccc}\n",
       "\t& id & gender & age & hypertension & heart\\_disease & ever\\_married & work\\_type & Residence\\_type & avg\\_glucose\\_level & bmi & smoking\\_status & stroke\\\\\n",
       "\t\\hline\n",
       "\t& Int64 & String7 & Float64 & Int64 & Int64 & String3 & String15 & String7 & Float64 & Float64 & String15 & Int64\\\\\n",
       "\t\\hline\n",
       "\t1 & 9046 & Male & 67.0 & 0 & 1 & Yes & Private & Urban & 228.69 & 36.6 & formerly smoked & 1 \\\\\n",
       "\t2 & 51676 & Female & 61.0 & 0 & 0 & Yes & Self-employed & Rural & 202.21 & 0.0 & never smoked & 1 \\\\\n",
       "\t3 & 31112 & Male & 80.0 & 0 & 1 & Yes & Private & Rural & 105.92 & 32.5 & never smoked & 1 \\\\\n",
       "\t4 & 60182 & Female & 49.0 & 0 & 0 & Yes & Private & Urban & 171.23 & 34.4 & smokes & 1 \\\\\n",
       "\t5 & 1665 & Female & 79.0 & 1 & 0 & Yes & Self-employed & Rural & 174.12 & 24.0 & never smoked & 1 \\\\\n",
       "\t6 & 56669 & Male & 81.0 & 0 & 0 & Yes & Private & Urban & 186.21 & 29.0 & formerly smoked & 1 \\\\\n",
       "\t7 & 53882 & Male & 74.0 & 1 & 1 & Yes & Private & Rural & 70.09 & 27.4 & never smoked & 1 \\\\\n",
       "\t8 & 10434 & Female & 69.0 & 0 & 0 & No & Private & Urban & 94.39 & 22.8 & never smoked & 1 \\\\\n",
       "\t9 & 27419 & Female & 59.0 & 0 & 0 & Yes & Private & Rural & 76.15 & 0.0 & Unknown & 1 \\\\\n",
       "\t10 & 60491 & Female & 78.0 & 0 & 0 & Yes & Private & Urban & 58.57 & 24.2 & Unknown & 1 \\\\\n",
       "\t11 & 12109 & Female & 81.0 & 1 & 0 & Yes & Private & Rural & 80.43 & 29.7 & never smoked & 1 \\\\\n",
       "\t12 & 12095 & Female & 61.0 & 0 & 1 & Yes & Govt\\_job & Rural & 120.46 & 36.8 & smokes & 1 \\\\\n",
       "\t13 & 12175 & Female & 54.0 & 0 & 0 & Yes & Private & Urban & 104.51 & 27.3 & smokes & 1 \\\\\n",
       "\t14 & 8213 & Male & 78.0 & 0 & 1 & Yes & Private & Urban & 219.84 & 0.0 & Unknown & 1 \\\\\n",
       "\t15 & 5317 & Female & 79.0 & 0 & 1 & Yes & Private & Urban & 214.09 & 28.2 & never smoked & 1 \\\\\n",
       "\t16 & 58202 & Female & 50.0 & 1 & 0 & Yes & Self-employed & Rural & 167.41 & 30.9 & never smoked & 1 \\\\\n",
       "\t17 & 56112 & Male & 64.0 & 0 & 1 & Yes & Private & Urban & 191.61 & 37.5 & smokes & 1 \\\\\n",
       "\t18 & 34120 & Male & 75.0 & 1 & 0 & Yes & Private & Urban & 221.29 & 25.8 & smokes & 1 \\\\\n",
       "\t19 & 27458 & Female & 60.0 & 0 & 0 & No & Private & Urban & 89.22 & 37.8 & never smoked & 1 \\\\\n",
       "\t20 & 25226 & Male & 57.0 & 0 & 1 & No & Govt\\_job & Urban & 217.08 & 0.0 & Unknown & 1 \\\\\n",
       "\t21 & 70630 & Female & 71.0 & 0 & 0 & Yes & Govt\\_job & Rural & 193.94 & 22.4 & smokes & 1 \\\\\n",
       "\t22 & 13861 & Female & 52.0 & 1 & 0 & Yes & Self-employed & Urban & 233.29 & 48.9 & never smoked & 1 \\\\\n",
       "\t23 & 68794 & Female & 79.0 & 0 & 0 & Yes & Self-employed & Urban & 228.7 & 26.6 & never smoked & 1 \\\\\n",
       "\t24 & 64778 & Male & 82.0 & 0 & 1 & Yes & Private & Rural & 208.3 & 32.5 & Unknown & 1 \\\\\n",
       "\t25 & 4219 & Male & 71.0 & 0 & 0 & Yes & Private & Urban & 102.87 & 27.2 & formerly smoked & 1 \\\\\n",
       "\t26 & 70822 & Male & 80.0 & 0 & 0 & Yes & Self-employed & Rural & 104.12 & 23.5 & never smoked & 1 \\\\\n",
       "\t27 & 38047 & Female & 65.0 & 0 & 0 & Yes & Private & Rural & 100.98 & 28.2 & formerly smoked & 1 \\\\\n",
       "\t28 & 61843 & Male & 58.0 & 0 & 0 & Yes & Private & Rural & 189.84 & 0.0 & Unknown & 1 \\\\\n",
       "\t29 & 54827 & Male & 69.0 & 0 & 1 & Yes & Self-employed & Urban & 195.23 & 28.3 & smokes & 1 \\\\\n",
       "\t30 & 69160 & Male & 59.0 & 0 & 0 & Yes & Private & Rural & 211.78 & 0.0 & formerly smoked & 1 \\\\\n",
       "\t$\\dots$ & $\\dots$ & $\\dots$ & $\\dots$ & $\\dots$ & $\\dots$ & $\\dots$ & $\\dots$ & $\\dots$ & $\\dots$ & $\\dots$ & $\\dots$ & $\\dots$ \\\\\n",
       "\\end{tabular}\n"
      ],
      "text/plain": [
       "5110×12 typename(DataFrame)\n",
       "│ Row  │ id    │ gender  │ age     │ hypertension │ heart_disease │ ever_married │ work_type     │ Residence_type │ avg_glucose_level │ bmi     │ smoking_status  │ stroke │\n",
       "│      │ \u001b[90mInt64\u001b[39m │ \u001b[90mString7\u001b[39m │ \u001b[90mFloat64\u001b[39m │ \u001b[90mInt64\u001b[39m        │ \u001b[90mInt64\u001b[39m         │ \u001b[90mString3\u001b[39m      │ \u001b[90mString15\u001b[39m      │ \u001b[90mString7\u001b[39m        │ \u001b[90mFloat64\u001b[39m           │ \u001b[90mFloat64\u001b[39m │ \u001b[90mString15\u001b[39m        │ \u001b[90mInt64\u001b[39m  │\n",
       "├──────┼───────┼─────────┼─────────┼──────────────┼───────────────┼──────────────┼───────────────┼────────────────┼───────────────────┼─────────┼─────────────────┼────────┤\n",
       "│ 1    │ 9046  │ Male    │ 67.0    │ 0            │ 1             │ Yes          │ Private       │ Urban          │ 228.69            │ 36.6    │ formerly smoked │ 1      │\n",
       "│ 2    │ 51676 │ Female  │ 61.0    │ 0            │ 0             │ Yes          │ Self-employed │ Rural          │ 202.21            │ 0.0     │ never smoked    │ 1      │\n",
       "│ 3    │ 31112 │ Male    │ 80.0    │ 0            │ 1             │ Yes          │ Private       │ Rural          │ 105.92            │ 32.5    │ never smoked    │ 1      │\n",
       "│ 4    │ 60182 │ Female  │ 49.0    │ 0            │ 0             │ Yes          │ Private       │ Urban          │ 171.23            │ 34.4    │ smokes          │ 1      │\n",
       "│ 5    │ 1665  │ Female  │ 79.0    │ 1            │ 0             │ Yes          │ Self-employed │ Rural          │ 174.12            │ 24.0    │ never smoked    │ 1      │\n",
       "│ 6    │ 56669 │ Male    │ 81.0    │ 0            │ 0             │ Yes          │ Private       │ Urban          │ 186.21            │ 29.0    │ formerly smoked │ 1      │\n",
       "│ 7    │ 53882 │ Male    │ 74.0    │ 1            │ 1             │ Yes          │ Private       │ Rural          │ 70.09             │ 27.4    │ never smoked    │ 1      │\n",
       "│ 8    │ 10434 │ Female  │ 69.0    │ 0            │ 0             │ No           │ Private       │ Urban          │ 94.39             │ 22.8    │ never smoked    │ 1      │\n",
       "│ 9    │ 27419 │ Female  │ 59.0    │ 0            │ 0             │ Yes          │ Private       │ Rural          │ 76.15             │ 0.0     │ Unknown         │ 1      │\n",
       "│ 10   │ 60491 │ Female  │ 78.0    │ 0            │ 0             │ Yes          │ Private       │ Urban          │ 58.57             │ 24.2    │ Unknown         │ 1      │\n",
       "⋮\n",
       "│ 5100 │ 7293  │ Male    │ 40.0    │ 0            │ 0             │ Yes          │ Private       │ Rural          │ 83.94             │ 0.0     │ smokes          │ 0      │\n",
       "│ 5101 │ 68398 │ Male    │ 82.0    │ 1            │ 0             │ Yes          │ Self-employed │ Rural          │ 71.97             │ 28.3    │ never smoked    │ 0      │\n",
       "│ 5102 │ 36901 │ Female  │ 45.0    │ 0            │ 0             │ Yes          │ Private       │ Urban          │ 97.95             │ 24.5    │ Unknown         │ 0      │\n",
       "│ 5103 │ 45010 │ Female  │ 57.0    │ 0            │ 0             │ Yes          │ Private       │ Rural          │ 77.93             │ 21.7    │ never smoked    │ 0      │\n",
       "│ 5104 │ 22127 │ Female  │ 18.0    │ 0            │ 0             │ No           │ Private       │ Urban          │ 82.85             │ 46.9    │ Unknown         │ 0      │\n",
       "│ 5105 │ 14180 │ Female  │ 13.0    │ 0            │ 0             │ No           │ children      │ Rural          │ 103.08            │ 18.6    │ Unknown         │ 0      │\n",
       "│ 5106 │ 18234 │ Female  │ 80.0    │ 1            │ 0             │ Yes          │ Private       │ Urban          │ 83.75             │ 0.0     │ never smoked    │ 0      │\n",
       "│ 5107 │ 44873 │ Female  │ 81.0    │ 0            │ 0             │ Yes          │ Self-employed │ Urban          │ 125.2             │ 40.0    │ never smoked    │ 0      │\n",
       "│ 5108 │ 19723 │ Female  │ 35.0    │ 0            │ 0             │ Yes          │ Self-employed │ Rural          │ 82.99             │ 30.6    │ never smoked    │ 0      │\n",
       "│ 5109 │ 37544 │ Male    │ 51.0    │ 0            │ 0             │ Yes          │ Private       │ Rural          │ 166.29            │ 25.6    │ formerly smoked │ 0      │\n",
       "│ 5110 │ 44679 │ Female  │ 44.0    │ 0            │ 0             │ Yes          │ Govt_job      │ Urban          │ 85.28             │ 26.2    │ Unknown         │ 0      │"
      ]
     },
     "execution_count": 11,
     "metadata": {},
     "output_type": "execute_result"
    }
   ],
   "source": [
    "df"
   ]
  },
  {
   "cell_type": "code",
   "execution_count": 12,
   "id": "6b01e897",
   "metadata": {},
   "outputs": [
    {
     "data": {
      "text/plain": [
       "28.893236911794666"
      ]
     },
     "execution_count": 12,
     "metadata": {},
     "output_type": "execute_result"
    }
   ],
   "source": [
    "m = mean(nmm)"
   ]
  },
  {
   "cell_type": "code",
   "execution_count": 13,
   "id": "9510e76f",
   "metadata": {},
   "outputs": [
    {
     "data": {
      "text/plain": [
       "5110-element Vector{Float64}:\n",
       " 36.6\n",
       " 28.893236911794666\n",
       " 32.5\n",
       " 34.4\n",
       " 24.0\n",
       " 29.0\n",
       " 27.4\n",
       " 22.8\n",
       " 28.893236911794666\n",
       " 24.2\n",
       " 29.7\n",
       " 36.8\n",
       " 27.3\n",
       "  ⋮\n",
       " 17.5\n",
       " 28.893236911794666\n",
       " 28.3\n",
       " 24.5\n",
       " 21.7\n",
       " 46.9\n",
       " 18.6\n",
       " 28.893236911794666\n",
       " 40.0\n",
       " 30.6\n",
       " 25.6\n",
       " 26.2"
      ]
     },
     "execution_count": 13,
     "metadata": {},
     "output_type": "execute_result"
    }
   ],
   "source": [
    "df.bmi = replace(df.bmi, 0.0 => m)"
   ]
  },
  {
   "cell_type": "code",
   "execution_count": 14,
   "id": "eeb3eb74",
   "metadata": {},
   "outputs": [
    {
     "data": {
      "text/html": [
       "<table class=\"data-frame\"><thead><tr><th></th><th>id</th><th>gender</th><th>age</th><th>hypertension</th><th>heart_disease</th><th>ever_married</th><th>work_type</th><th>Residence_type</th><th>avg_glucose_level</th><th>bmi</th><th>smoking_status</th><th>stroke</th></tr><tr><th></th><th>Int64</th><th>String7</th><th>Float64</th><th>Int64</th><th>Int64</th><th>String3</th><th>String15</th><th>String7</th><th>Float64</th><th>Float64</th><th>String15</th><th>Int64</th></tr></thead><tbody><p>5,110 rows × 12 columns</p><tr><th>1</th><td>9046</td><td>Male</td><td>67.0</td><td>0</td><td>1</td><td>Yes</td><td>Private</td><td>Urban</td><td>228.69</td><td>36.6</td><td>formerly smoked</td><td>1</td></tr><tr><th>2</th><td>51676</td><td>Female</td><td>61.0</td><td>0</td><td>0</td><td>Yes</td><td>Self-employed</td><td>Rural</td><td>202.21</td><td>28.8932</td><td>never smoked</td><td>1</td></tr><tr><th>3</th><td>31112</td><td>Male</td><td>80.0</td><td>0</td><td>1</td><td>Yes</td><td>Private</td><td>Rural</td><td>105.92</td><td>32.5</td><td>never smoked</td><td>1</td></tr><tr><th>4</th><td>60182</td><td>Female</td><td>49.0</td><td>0</td><td>0</td><td>Yes</td><td>Private</td><td>Urban</td><td>171.23</td><td>34.4</td><td>smokes</td><td>1</td></tr><tr><th>5</th><td>1665</td><td>Female</td><td>79.0</td><td>1</td><td>0</td><td>Yes</td><td>Self-employed</td><td>Rural</td><td>174.12</td><td>24.0</td><td>never smoked</td><td>1</td></tr><tr><th>6</th><td>56669</td><td>Male</td><td>81.0</td><td>0</td><td>0</td><td>Yes</td><td>Private</td><td>Urban</td><td>186.21</td><td>29.0</td><td>formerly smoked</td><td>1</td></tr><tr><th>7</th><td>53882</td><td>Male</td><td>74.0</td><td>1</td><td>1</td><td>Yes</td><td>Private</td><td>Rural</td><td>70.09</td><td>27.4</td><td>never smoked</td><td>1</td></tr><tr><th>8</th><td>10434</td><td>Female</td><td>69.0</td><td>0</td><td>0</td><td>No</td><td>Private</td><td>Urban</td><td>94.39</td><td>22.8</td><td>never smoked</td><td>1</td></tr><tr><th>9</th><td>27419</td><td>Female</td><td>59.0</td><td>0</td><td>0</td><td>Yes</td><td>Private</td><td>Rural</td><td>76.15</td><td>28.8932</td><td>Unknown</td><td>1</td></tr><tr><th>10</th><td>60491</td><td>Female</td><td>78.0</td><td>0</td><td>0</td><td>Yes</td><td>Private</td><td>Urban</td><td>58.57</td><td>24.2</td><td>Unknown</td><td>1</td></tr><tr><th>11</th><td>12109</td><td>Female</td><td>81.0</td><td>1</td><td>0</td><td>Yes</td><td>Private</td><td>Rural</td><td>80.43</td><td>29.7</td><td>never smoked</td><td>1</td></tr><tr><th>12</th><td>12095</td><td>Female</td><td>61.0</td><td>0</td><td>1</td><td>Yes</td><td>Govt_job</td><td>Rural</td><td>120.46</td><td>36.8</td><td>smokes</td><td>1</td></tr><tr><th>13</th><td>12175</td><td>Female</td><td>54.0</td><td>0</td><td>0</td><td>Yes</td><td>Private</td><td>Urban</td><td>104.51</td><td>27.3</td><td>smokes</td><td>1</td></tr><tr><th>14</th><td>8213</td><td>Male</td><td>78.0</td><td>0</td><td>1</td><td>Yes</td><td>Private</td><td>Urban</td><td>219.84</td><td>28.8932</td><td>Unknown</td><td>1</td></tr><tr><th>15</th><td>5317</td><td>Female</td><td>79.0</td><td>0</td><td>1</td><td>Yes</td><td>Private</td><td>Urban</td><td>214.09</td><td>28.2</td><td>never smoked</td><td>1</td></tr><tr><th>16</th><td>58202</td><td>Female</td><td>50.0</td><td>1</td><td>0</td><td>Yes</td><td>Self-employed</td><td>Rural</td><td>167.41</td><td>30.9</td><td>never smoked</td><td>1</td></tr><tr><th>17</th><td>56112</td><td>Male</td><td>64.0</td><td>0</td><td>1</td><td>Yes</td><td>Private</td><td>Urban</td><td>191.61</td><td>37.5</td><td>smokes</td><td>1</td></tr><tr><th>18</th><td>34120</td><td>Male</td><td>75.0</td><td>1</td><td>0</td><td>Yes</td><td>Private</td><td>Urban</td><td>221.29</td><td>25.8</td><td>smokes</td><td>1</td></tr><tr><th>19</th><td>27458</td><td>Female</td><td>60.0</td><td>0</td><td>0</td><td>No</td><td>Private</td><td>Urban</td><td>89.22</td><td>37.8</td><td>never smoked</td><td>1</td></tr><tr><th>20</th><td>25226</td><td>Male</td><td>57.0</td><td>0</td><td>1</td><td>No</td><td>Govt_job</td><td>Urban</td><td>217.08</td><td>28.8932</td><td>Unknown</td><td>1</td></tr><tr><th>21</th><td>70630</td><td>Female</td><td>71.0</td><td>0</td><td>0</td><td>Yes</td><td>Govt_job</td><td>Rural</td><td>193.94</td><td>22.4</td><td>smokes</td><td>1</td></tr><tr><th>22</th><td>13861</td><td>Female</td><td>52.0</td><td>1</td><td>0</td><td>Yes</td><td>Self-employed</td><td>Urban</td><td>233.29</td><td>48.9</td><td>never smoked</td><td>1</td></tr><tr><th>23</th><td>68794</td><td>Female</td><td>79.0</td><td>0</td><td>0</td><td>Yes</td><td>Self-employed</td><td>Urban</td><td>228.7</td><td>26.6</td><td>never smoked</td><td>1</td></tr><tr><th>24</th><td>64778</td><td>Male</td><td>82.0</td><td>0</td><td>1</td><td>Yes</td><td>Private</td><td>Rural</td><td>208.3</td><td>32.5</td><td>Unknown</td><td>1</td></tr><tr><th>25</th><td>4219</td><td>Male</td><td>71.0</td><td>0</td><td>0</td><td>Yes</td><td>Private</td><td>Urban</td><td>102.87</td><td>27.2</td><td>formerly smoked</td><td>1</td></tr><tr><th>26</th><td>70822</td><td>Male</td><td>80.0</td><td>0</td><td>0</td><td>Yes</td><td>Self-employed</td><td>Rural</td><td>104.12</td><td>23.5</td><td>never smoked</td><td>1</td></tr><tr><th>27</th><td>38047</td><td>Female</td><td>65.0</td><td>0</td><td>0</td><td>Yes</td><td>Private</td><td>Rural</td><td>100.98</td><td>28.2</td><td>formerly smoked</td><td>1</td></tr><tr><th>28</th><td>61843</td><td>Male</td><td>58.0</td><td>0</td><td>0</td><td>Yes</td><td>Private</td><td>Rural</td><td>189.84</td><td>28.8932</td><td>Unknown</td><td>1</td></tr><tr><th>29</th><td>54827</td><td>Male</td><td>69.0</td><td>0</td><td>1</td><td>Yes</td><td>Self-employed</td><td>Urban</td><td>195.23</td><td>28.3</td><td>smokes</td><td>1</td></tr><tr><th>30</th><td>69160</td><td>Male</td><td>59.0</td><td>0</td><td>0</td><td>Yes</td><td>Private</td><td>Rural</td><td>211.78</td><td>28.8932</td><td>formerly smoked</td><td>1</td></tr><tr><th>&vellip;</th><td>&vellip;</td><td>&vellip;</td><td>&vellip;</td><td>&vellip;</td><td>&vellip;</td><td>&vellip;</td><td>&vellip;</td><td>&vellip;</td><td>&vellip;</td><td>&vellip;</td><td>&vellip;</td><td>&vellip;</td></tr></tbody></table>"
      ],
      "text/latex": [
       "\\begin{tabular}{r|cccccccccccc}\n",
       "\t& id & gender & age & hypertension & heart\\_disease & ever\\_married & work\\_type & Residence\\_type & avg\\_glucose\\_level & bmi & smoking\\_status & stroke\\\\\n",
       "\t\\hline\n",
       "\t& Int64 & String7 & Float64 & Int64 & Int64 & String3 & String15 & String7 & Float64 & Float64 & String15 & Int64\\\\\n",
       "\t\\hline\n",
       "\t1 & 9046 & Male & 67.0 & 0 & 1 & Yes & Private & Urban & 228.69 & 36.6 & formerly smoked & 1 \\\\\n",
       "\t2 & 51676 & Female & 61.0 & 0 & 0 & Yes & Self-employed & Rural & 202.21 & 28.8932 & never smoked & 1 \\\\\n",
       "\t3 & 31112 & Male & 80.0 & 0 & 1 & Yes & Private & Rural & 105.92 & 32.5 & never smoked & 1 \\\\\n",
       "\t4 & 60182 & Female & 49.0 & 0 & 0 & Yes & Private & Urban & 171.23 & 34.4 & smokes & 1 \\\\\n",
       "\t5 & 1665 & Female & 79.0 & 1 & 0 & Yes & Self-employed & Rural & 174.12 & 24.0 & never smoked & 1 \\\\\n",
       "\t6 & 56669 & Male & 81.0 & 0 & 0 & Yes & Private & Urban & 186.21 & 29.0 & formerly smoked & 1 \\\\\n",
       "\t7 & 53882 & Male & 74.0 & 1 & 1 & Yes & Private & Rural & 70.09 & 27.4 & never smoked & 1 \\\\\n",
       "\t8 & 10434 & Female & 69.0 & 0 & 0 & No & Private & Urban & 94.39 & 22.8 & never smoked & 1 \\\\\n",
       "\t9 & 27419 & Female & 59.0 & 0 & 0 & Yes & Private & Rural & 76.15 & 28.8932 & Unknown & 1 \\\\\n",
       "\t10 & 60491 & Female & 78.0 & 0 & 0 & Yes & Private & Urban & 58.57 & 24.2 & Unknown & 1 \\\\\n",
       "\t11 & 12109 & Female & 81.0 & 1 & 0 & Yes & Private & Rural & 80.43 & 29.7 & never smoked & 1 \\\\\n",
       "\t12 & 12095 & Female & 61.0 & 0 & 1 & Yes & Govt\\_job & Rural & 120.46 & 36.8 & smokes & 1 \\\\\n",
       "\t13 & 12175 & Female & 54.0 & 0 & 0 & Yes & Private & Urban & 104.51 & 27.3 & smokes & 1 \\\\\n",
       "\t14 & 8213 & Male & 78.0 & 0 & 1 & Yes & Private & Urban & 219.84 & 28.8932 & Unknown & 1 \\\\\n",
       "\t15 & 5317 & Female & 79.0 & 0 & 1 & Yes & Private & Urban & 214.09 & 28.2 & never smoked & 1 \\\\\n",
       "\t16 & 58202 & Female & 50.0 & 1 & 0 & Yes & Self-employed & Rural & 167.41 & 30.9 & never smoked & 1 \\\\\n",
       "\t17 & 56112 & Male & 64.0 & 0 & 1 & Yes & Private & Urban & 191.61 & 37.5 & smokes & 1 \\\\\n",
       "\t18 & 34120 & Male & 75.0 & 1 & 0 & Yes & Private & Urban & 221.29 & 25.8 & smokes & 1 \\\\\n",
       "\t19 & 27458 & Female & 60.0 & 0 & 0 & No & Private & Urban & 89.22 & 37.8 & never smoked & 1 \\\\\n",
       "\t20 & 25226 & Male & 57.0 & 0 & 1 & No & Govt\\_job & Urban & 217.08 & 28.8932 & Unknown & 1 \\\\\n",
       "\t21 & 70630 & Female & 71.0 & 0 & 0 & Yes & Govt\\_job & Rural & 193.94 & 22.4 & smokes & 1 \\\\\n",
       "\t22 & 13861 & Female & 52.0 & 1 & 0 & Yes & Self-employed & Urban & 233.29 & 48.9 & never smoked & 1 \\\\\n",
       "\t23 & 68794 & Female & 79.0 & 0 & 0 & Yes & Self-employed & Urban & 228.7 & 26.6 & never smoked & 1 \\\\\n",
       "\t24 & 64778 & Male & 82.0 & 0 & 1 & Yes & Private & Rural & 208.3 & 32.5 & Unknown & 1 \\\\\n",
       "\t25 & 4219 & Male & 71.0 & 0 & 0 & Yes & Private & Urban & 102.87 & 27.2 & formerly smoked & 1 \\\\\n",
       "\t26 & 70822 & Male & 80.0 & 0 & 0 & Yes & Self-employed & Rural & 104.12 & 23.5 & never smoked & 1 \\\\\n",
       "\t27 & 38047 & Female & 65.0 & 0 & 0 & Yes & Private & Rural & 100.98 & 28.2 & formerly smoked & 1 \\\\\n",
       "\t28 & 61843 & Male & 58.0 & 0 & 0 & Yes & Private & Rural & 189.84 & 28.8932 & Unknown & 1 \\\\\n",
       "\t29 & 54827 & Male & 69.0 & 0 & 1 & Yes & Self-employed & Urban & 195.23 & 28.3 & smokes & 1 \\\\\n",
       "\t30 & 69160 & Male & 59.0 & 0 & 0 & Yes & Private & Rural & 211.78 & 28.8932 & formerly smoked & 1 \\\\\n",
       "\t$\\dots$ & $\\dots$ & $\\dots$ & $\\dots$ & $\\dots$ & $\\dots$ & $\\dots$ & $\\dots$ & $\\dots$ & $\\dots$ & $\\dots$ & $\\dots$ & $\\dots$ \\\\\n",
       "\\end{tabular}\n"
      ],
      "text/plain": [
       "5110×12 typename(DataFrame)\n",
       "│ Row  │ id    │ gender  │ age     │ hypertension │ heart_disease │ ever_married │ work_type     │ Residence_type │ avg_glucose_level │ bmi     │ smoking_status  │ stroke │\n",
       "│      │ \u001b[90mInt64\u001b[39m │ \u001b[90mString7\u001b[39m │ \u001b[90mFloat64\u001b[39m │ \u001b[90mInt64\u001b[39m        │ \u001b[90mInt64\u001b[39m         │ \u001b[90mString3\u001b[39m      │ \u001b[90mString15\u001b[39m      │ \u001b[90mString7\u001b[39m        │ \u001b[90mFloat64\u001b[39m           │ \u001b[90mFloat64\u001b[39m │ \u001b[90mString15\u001b[39m        │ \u001b[90mInt64\u001b[39m  │\n",
       "├──────┼───────┼─────────┼─────────┼──────────────┼───────────────┼──────────────┼───────────────┼────────────────┼───────────────────┼─────────┼─────────────────┼────────┤\n",
       "│ 1    │ 9046  │ Male    │ 67.0    │ 0            │ 1             │ Yes          │ Private       │ Urban          │ 228.69            │ 36.6    │ formerly smoked │ 1      │\n",
       "│ 2    │ 51676 │ Female  │ 61.0    │ 0            │ 0             │ Yes          │ Self-employed │ Rural          │ 202.21            │ 28.8932 │ never smoked    │ 1      │\n",
       "│ 3    │ 31112 │ Male    │ 80.0    │ 0            │ 1             │ Yes          │ Private       │ Rural          │ 105.92            │ 32.5    │ never smoked    │ 1      │\n",
       "│ 4    │ 60182 │ Female  │ 49.0    │ 0            │ 0             │ Yes          │ Private       │ Urban          │ 171.23            │ 34.4    │ smokes          │ 1      │\n",
       "│ 5    │ 1665  │ Female  │ 79.0    │ 1            │ 0             │ Yes          │ Self-employed │ Rural          │ 174.12            │ 24.0    │ never smoked    │ 1      │\n",
       "│ 6    │ 56669 │ Male    │ 81.0    │ 0            │ 0             │ Yes          │ Private       │ Urban          │ 186.21            │ 29.0    │ formerly smoked │ 1      │\n",
       "│ 7    │ 53882 │ Male    │ 74.0    │ 1            │ 1             │ Yes          │ Private       │ Rural          │ 70.09             │ 27.4    │ never smoked    │ 1      │\n",
       "│ 8    │ 10434 │ Female  │ 69.0    │ 0            │ 0             │ No           │ Private       │ Urban          │ 94.39             │ 22.8    │ never smoked    │ 1      │\n",
       "│ 9    │ 27419 │ Female  │ 59.0    │ 0            │ 0             │ Yes          │ Private       │ Rural          │ 76.15             │ 28.8932 │ Unknown         │ 1      │\n",
       "│ 10   │ 60491 │ Female  │ 78.0    │ 0            │ 0             │ Yes          │ Private       │ Urban          │ 58.57             │ 24.2    │ Unknown         │ 1      │\n",
       "⋮\n",
       "│ 5100 │ 7293  │ Male    │ 40.0    │ 0            │ 0             │ Yes          │ Private       │ Rural          │ 83.94             │ 28.8932 │ smokes          │ 0      │\n",
       "│ 5101 │ 68398 │ Male    │ 82.0    │ 1            │ 0             │ Yes          │ Self-employed │ Rural          │ 71.97             │ 28.3    │ never smoked    │ 0      │\n",
       "│ 5102 │ 36901 │ Female  │ 45.0    │ 0            │ 0             │ Yes          │ Private       │ Urban          │ 97.95             │ 24.5    │ Unknown         │ 0      │\n",
       "│ 5103 │ 45010 │ Female  │ 57.0    │ 0            │ 0             │ Yes          │ Private       │ Rural          │ 77.93             │ 21.7    │ never smoked    │ 0      │\n",
       "│ 5104 │ 22127 │ Female  │ 18.0    │ 0            │ 0             │ No           │ Private       │ Urban          │ 82.85             │ 46.9    │ Unknown         │ 0      │\n",
       "│ 5105 │ 14180 │ Female  │ 13.0    │ 0            │ 0             │ No           │ children      │ Rural          │ 103.08            │ 18.6    │ Unknown         │ 0      │\n",
       "│ 5106 │ 18234 │ Female  │ 80.0    │ 1            │ 0             │ Yes          │ Private       │ Urban          │ 83.75             │ 28.8932 │ never smoked    │ 0      │\n",
       "│ 5107 │ 44873 │ Female  │ 81.0    │ 0            │ 0             │ Yes          │ Self-employed │ Urban          │ 125.2             │ 40.0    │ never smoked    │ 0      │\n",
       "│ 5108 │ 19723 │ Female  │ 35.0    │ 0            │ 0             │ Yes          │ Self-employed │ Rural          │ 82.99             │ 30.6    │ never smoked    │ 0      │\n",
       "│ 5109 │ 37544 │ Male    │ 51.0    │ 0            │ 0             │ Yes          │ Private       │ Rural          │ 166.29            │ 25.6    │ formerly smoked │ 0      │\n",
       "│ 5110 │ 44679 │ Female  │ 44.0    │ 0            │ 0             │ Yes          │ Govt_job      │ Urban          │ 85.28             │ 26.2    │ Unknown         │ 0      │"
      ]
     },
     "execution_count": 14,
     "metadata": {},
     "output_type": "execute_result"
    }
   ],
   "source": [
    "df"
   ]
  },
  {
   "cell_type": "code",
   "execution_count": 15,
   "id": "b64dbc90",
   "metadata": {},
   "outputs": [
    {
     "data": {
      "text/plain": [
       "PyObject <class 'sklearn.preprocessing._label.LabelEncoder'>"
      ]
     },
     "execution_count": 15,
     "metadata": {},
     "output_type": "execute_result"
    }
   ],
   "source": [
    "@sk_import preprocessing: LabelEncoder"
   ]
  },
  {
   "cell_type": "code",
   "execution_count": 16,
   "id": "a1fc5a2e",
   "metadata": {},
   "outputs": [],
   "source": [
    "labelencoder = LabelEncoder() \n",
    "categories = [2 6 7 8 11] \n",
    "for col in categories \n",
    "     df[col] = fit_transform!(labelencoder, df[col]) \n",
    "end"
   ]
  },
  {
   "cell_type": "code",
   "execution_count": 17,
   "id": "8c0c681c",
   "metadata": {},
   "outputs": [
    {
     "data": {
      "text/html": [
       "<table class=\"data-frame\"><thead><tr><th></th><th>id</th><th>gender</th><th>age</th><th>hypertension</th><th>heart_disease</th><th>ever_married</th><th>work_type</th><th>Residence_type</th><th>avg_glucose_level</th><th>bmi</th><th>smoking_status</th><th>stroke</th></tr><tr><th></th><th>Int64</th><th>Int64</th><th>Float64</th><th>Int64</th><th>Int64</th><th>Int64</th><th>Int64</th><th>Int64</th><th>Float64</th><th>Float64</th><th>Int64</th><th>Int64</th></tr></thead><tbody><p>5,110 rows × 12 columns</p><tr><th>1</th><td>9046</td><td>1</td><td>67.0</td><td>0</td><td>1</td><td>1</td><td>2</td><td>1</td><td>228.69</td><td>36.6</td><td>1</td><td>1</td></tr><tr><th>2</th><td>51676</td><td>0</td><td>61.0</td><td>0</td><td>0</td><td>1</td><td>3</td><td>0</td><td>202.21</td><td>28.8932</td><td>2</td><td>1</td></tr><tr><th>3</th><td>31112</td><td>1</td><td>80.0</td><td>0</td><td>1</td><td>1</td><td>2</td><td>0</td><td>105.92</td><td>32.5</td><td>2</td><td>1</td></tr><tr><th>4</th><td>60182</td><td>0</td><td>49.0</td><td>0</td><td>0</td><td>1</td><td>2</td><td>1</td><td>171.23</td><td>34.4</td><td>3</td><td>1</td></tr><tr><th>5</th><td>1665</td><td>0</td><td>79.0</td><td>1</td><td>0</td><td>1</td><td>3</td><td>0</td><td>174.12</td><td>24.0</td><td>2</td><td>1</td></tr><tr><th>6</th><td>56669</td><td>1</td><td>81.0</td><td>0</td><td>0</td><td>1</td><td>2</td><td>1</td><td>186.21</td><td>29.0</td><td>1</td><td>1</td></tr><tr><th>7</th><td>53882</td><td>1</td><td>74.0</td><td>1</td><td>1</td><td>1</td><td>2</td><td>0</td><td>70.09</td><td>27.4</td><td>2</td><td>1</td></tr><tr><th>8</th><td>10434</td><td>0</td><td>69.0</td><td>0</td><td>0</td><td>0</td><td>2</td><td>1</td><td>94.39</td><td>22.8</td><td>2</td><td>1</td></tr><tr><th>9</th><td>27419</td><td>0</td><td>59.0</td><td>0</td><td>0</td><td>1</td><td>2</td><td>0</td><td>76.15</td><td>28.8932</td><td>0</td><td>1</td></tr><tr><th>10</th><td>60491</td><td>0</td><td>78.0</td><td>0</td><td>0</td><td>1</td><td>2</td><td>1</td><td>58.57</td><td>24.2</td><td>0</td><td>1</td></tr><tr><th>11</th><td>12109</td><td>0</td><td>81.0</td><td>1</td><td>0</td><td>1</td><td>2</td><td>0</td><td>80.43</td><td>29.7</td><td>2</td><td>1</td></tr><tr><th>12</th><td>12095</td><td>0</td><td>61.0</td><td>0</td><td>1</td><td>1</td><td>0</td><td>0</td><td>120.46</td><td>36.8</td><td>3</td><td>1</td></tr><tr><th>13</th><td>12175</td><td>0</td><td>54.0</td><td>0</td><td>0</td><td>1</td><td>2</td><td>1</td><td>104.51</td><td>27.3</td><td>3</td><td>1</td></tr><tr><th>14</th><td>8213</td><td>1</td><td>78.0</td><td>0</td><td>1</td><td>1</td><td>2</td><td>1</td><td>219.84</td><td>28.8932</td><td>0</td><td>1</td></tr><tr><th>15</th><td>5317</td><td>0</td><td>79.0</td><td>0</td><td>1</td><td>1</td><td>2</td><td>1</td><td>214.09</td><td>28.2</td><td>2</td><td>1</td></tr><tr><th>16</th><td>58202</td><td>0</td><td>50.0</td><td>1</td><td>0</td><td>1</td><td>3</td><td>0</td><td>167.41</td><td>30.9</td><td>2</td><td>1</td></tr><tr><th>17</th><td>56112</td><td>1</td><td>64.0</td><td>0</td><td>1</td><td>1</td><td>2</td><td>1</td><td>191.61</td><td>37.5</td><td>3</td><td>1</td></tr><tr><th>18</th><td>34120</td><td>1</td><td>75.0</td><td>1</td><td>0</td><td>1</td><td>2</td><td>1</td><td>221.29</td><td>25.8</td><td>3</td><td>1</td></tr><tr><th>19</th><td>27458</td><td>0</td><td>60.0</td><td>0</td><td>0</td><td>0</td><td>2</td><td>1</td><td>89.22</td><td>37.8</td><td>2</td><td>1</td></tr><tr><th>20</th><td>25226</td><td>1</td><td>57.0</td><td>0</td><td>1</td><td>0</td><td>0</td><td>1</td><td>217.08</td><td>28.8932</td><td>0</td><td>1</td></tr><tr><th>21</th><td>70630</td><td>0</td><td>71.0</td><td>0</td><td>0</td><td>1</td><td>0</td><td>0</td><td>193.94</td><td>22.4</td><td>3</td><td>1</td></tr><tr><th>22</th><td>13861</td><td>0</td><td>52.0</td><td>1</td><td>0</td><td>1</td><td>3</td><td>1</td><td>233.29</td><td>48.9</td><td>2</td><td>1</td></tr><tr><th>23</th><td>68794</td><td>0</td><td>79.0</td><td>0</td><td>0</td><td>1</td><td>3</td><td>1</td><td>228.7</td><td>26.6</td><td>2</td><td>1</td></tr><tr><th>24</th><td>64778</td><td>1</td><td>82.0</td><td>0</td><td>1</td><td>1</td><td>2</td><td>0</td><td>208.3</td><td>32.5</td><td>0</td><td>1</td></tr><tr><th>25</th><td>4219</td><td>1</td><td>71.0</td><td>0</td><td>0</td><td>1</td><td>2</td><td>1</td><td>102.87</td><td>27.2</td><td>1</td><td>1</td></tr><tr><th>26</th><td>70822</td><td>1</td><td>80.0</td><td>0</td><td>0</td><td>1</td><td>3</td><td>0</td><td>104.12</td><td>23.5</td><td>2</td><td>1</td></tr><tr><th>27</th><td>38047</td><td>0</td><td>65.0</td><td>0</td><td>0</td><td>1</td><td>2</td><td>0</td><td>100.98</td><td>28.2</td><td>1</td><td>1</td></tr><tr><th>28</th><td>61843</td><td>1</td><td>58.0</td><td>0</td><td>0</td><td>1</td><td>2</td><td>0</td><td>189.84</td><td>28.8932</td><td>0</td><td>1</td></tr><tr><th>29</th><td>54827</td><td>1</td><td>69.0</td><td>0</td><td>1</td><td>1</td><td>3</td><td>1</td><td>195.23</td><td>28.3</td><td>3</td><td>1</td></tr><tr><th>30</th><td>69160</td><td>1</td><td>59.0</td><td>0</td><td>0</td><td>1</td><td>2</td><td>0</td><td>211.78</td><td>28.8932</td><td>1</td><td>1</td></tr><tr><th>&vellip;</th><td>&vellip;</td><td>&vellip;</td><td>&vellip;</td><td>&vellip;</td><td>&vellip;</td><td>&vellip;</td><td>&vellip;</td><td>&vellip;</td><td>&vellip;</td><td>&vellip;</td><td>&vellip;</td><td>&vellip;</td></tr></tbody></table>"
      ],
      "text/latex": [
       "\\begin{tabular}{r|cccccccccccc}\n",
       "\t& id & gender & age & hypertension & heart\\_disease & ever\\_married & work\\_type & Residence\\_type & avg\\_glucose\\_level & bmi & smoking\\_status & stroke\\\\\n",
       "\t\\hline\n",
       "\t& Int64 & Int64 & Float64 & Int64 & Int64 & Int64 & Int64 & Int64 & Float64 & Float64 & Int64 & Int64\\\\\n",
       "\t\\hline\n",
       "\t1 & 9046 & 1 & 67.0 & 0 & 1 & 1 & 2 & 1 & 228.69 & 36.6 & 1 & 1 \\\\\n",
       "\t2 & 51676 & 0 & 61.0 & 0 & 0 & 1 & 3 & 0 & 202.21 & 28.8932 & 2 & 1 \\\\\n",
       "\t3 & 31112 & 1 & 80.0 & 0 & 1 & 1 & 2 & 0 & 105.92 & 32.5 & 2 & 1 \\\\\n",
       "\t4 & 60182 & 0 & 49.0 & 0 & 0 & 1 & 2 & 1 & 171.23 & 34.4 & 3 & 1 \\\\\n",
       "\t5 & 1665 & 0 & 79.0 & 1 & 0 & 1 & 3 & 0 & 174.12 & 24.0 & 2 & 1 \\\\\n",
       "\t6 & 56669 & 1 & 81.0 & 0 & 0 & 1 & 2 & 1 & 186.21 & 29.0 & 1 & 1 \\\\\n",
       "\t7 & 53882 & 1 & 74.0 & 1 & 1 & 1 & 2 & 0 & 70.09 & 27.4 & 2 & 1 \\\\\n",
       "\t8 & 10434 & 0 & 69.0 & 0 & 0 & 0 & 2 & 1 & 94.39 & 22.8 & 2 & 1 \\\\\n",
       "\t9 & 27419 & 0 & 59.0 & 0 & 0 & 1 & 2 & 0 & 76.15 & 28.8932 & 0 & 1 \\\\\n",
       "\t10 & 60491 & 0 & 78.0 & 0 & 0 & 1 & 2 & 1 & 58.57 & 24.2 & 0 & 1 \\\\\n",
       "\t11 & 12109 & 0 & 81.0 & 1 & 0 & 1 & 2 & 0 & 80.43 & 29.7 & 2 & 1 \\\\\n",
       "\t12 & 12095 & 0 & 61.0 & 0 & 1 & 1 & 0 & 0 & 120.46 & 36.8 & 3 & 1 \\\\\n",
       "\t13 & 12175 & 0 & 54.0 & 0 & 0 & 1 & 2 & 1 & 104.51 & 27.3 & 3 & 1 \\\\\n",
       "\t14 & 8213 & 1 & 78.0 & 0 & 1 & 1 & 2 & 1 & 219.84 & 28.8932 & 0 & 1 \\\\\n",
       "\t15 & 5317 & 0 & 79.0 & 0 & 1 & 1 & 2 & 1 & 214.09 & 28.2 & 2 & 1 \\\\\n",
       "\t16 & 58202 & 0 & 50.0 & 1 & 0 & 1 & 3 & 0 & 167.41 & 30.9 & 2 & 1 \\\\\n",
       "\t17 & 56112 & 1 & 64.0 & 0 & 1 & 1 & 2 & 1 & 191.61 & 37.5 & 3 & 1 \\\\\n",
       "\t18 & 34120 & 1 & 75.0 & 1 & 0 & 1 & 2 & 1 & 221.29 & 25.8 & 3 & 1 \\\\\n",
       "\t19 & 27458 & 0 & 60.0 & 0 & 0 & 0 & 2 & 1 & 89.22 & 37.8 & 2 & 1 \\\\\n",
       "\t20 & 25226 & 1 & 57.0 & 0 & 1 & 0 & 0 & 1 & 217.08 & 28.8932 & 0 & 1 \\\\\n",
       "\t21 & 70630 & 0 & 71.0 & 0 & 0 & 1 & 0 & 0 & 193.94 & 22.4 & 3 & 1 \\\\\n",
       "\t22 & 13861 & 0 & 52.0 & 1 & 0 & 1 & 3 & 1 & 233.29 & 48.9 & 2 & 1 \\\\\n",
       "\t23 & 68794 & 0 & 79.0 & 0 & 0 & 1 & 3 & 1 & 228.7 & 26.6 & 2 & 1 \\\\\n",
       "\t24 & 64778 & 1 & 82.0 & 0 & 1 & 1 & 2 & 0 & 208.3 & 32.5 & 0 & 1 \\\\\n",
       "\t25 & 4219 & 1 & 71.0 & 0 & 0 & 1 & 2 & 1 & 102.87 & 27.2 & 1 & 1 \\\\\n",
       "\t26 & 70822 & 1 & 80.0 & 0 & 0 & 1 & 3 & 0 & 104.12 & 23.5 & 2 & 1 \\\\\n",
       "\t27 & 38047 & 0 & 65.0 & 0 & 0 & 1 & 2 & 0 & 100.98 & 28.2 & 1 & 1 \\\\\n",
       "\t28 & 61843 & 1 & 58.0 & 0 & 0 & 1 & 2 & 0 & 189.84 & 28.8932 & 0 & 1 \\\\\n",
       "\t29 & 54827 & 1 & 69.0 & 0 & 1 & 1 & 3 & 1 & 195.23 & 28.3 & 3 & 1 \\\\\n",
       "\t30 & 69160 & 1 & 59.0 & 0 & 0 & 1 & 2 & 0 & 211.78 & 28.8932 & 1 & 1 \\\\\n",
       "\t$\\dots$ & $\\dots$ & $\\dots$ & $\\dots$ & $\\dots$ & $\\dots$ & $\\dots$ & $\\dots$ & $\\dots$ & $\\dots$ & $\\dots$ & $\\dots$ & $\\dots$ \\\\\n",
       "\\end{tabular}\n"
      ],
      "text/plain": [
       "5110×12 typename(DataFrame)\n",
       "│ Row  │ id    │ gender │ age     │ hypertension │ heart_disease │ ever_married │ work_type │ Residence_type │ avg_glucose_level │ bmi     │ smoking_status │ stroke │\n",
       "│      │ \u001b[90mInt64\u001b[39m │ \u001b[90mInt64\u001b[39m  │ \u001b[90mFloat64\u001b[39m │ \u001b[90mInt64\u001b[39m        │ \u001b[90mInt64\u001b[39m         │ \u001b[90mInt64\u001b[39m        │ \u001b[90mInt64\u001b[39m     │ \u001b[90mInt64\u001b[39m          │ \u001b[90mFloat64\u001b[39m           │ \u001b[90mFloat64\u001b[39m │ \u001b[90mInt64\u001b[39m          │ \u001b[90mInt64\u001b[39m  │\n",
       "├──────┼───────┼────────┼─────────┼──────────────┼───────────────┼──────────────┼───────────┼────────────────┼───────────────────┼─────────┼────────────────┼────────┤\n",
       "│ 1    │ 9046  │ 1      │ 67.0    │ 0            │ 1             │ 1            │ 2         │ 1              │ 228.69            │ 36.6    │ 1              │ 1      │\n",
       "│ 2    │ 51676 │ 0      │ 61.0    │ 0            │ 0             │ 1            │ 3         │ 0              │ 202.21            │ 28.8932 │ 2              │ 1      │\n",
       "│ 3    │ 31112 │ 1      │ 80.0    │ 0            │ 1             │ 1            │ 2         │ 0              │ 105.92            │ 32.5    │ 2              │ 1      │\n",
       "│ 4    │ 60182 │ 0      │ 49.0    │ 0            │ 0             │ 1            │ 2         │ 1              │ 171.23            │ 34.4    │ 3              │ 1      │\n",
       "│ 5    │ 1665  │ 0      │ 79.0    │ 1            │ 0             │ 1            │ 3         │ 0              │ 174.12            │ 24.0    │ 2              │ 1      │\n",
       "│ 6    │ 56669 │ 1      │ 81.0    │ 0            │ 0             │ 1            │ 2         │ 1              │ 186.21            │ 29.0    │ 1              │ 1      │\n",
       "│ 7    │ 53882 │ 1      │ 74.0    │ 1            │ 1             │ 1            │ 2         │ 0              │ 70.09             │ 27.4    │ 2              │ 1      │\n",
       "│ 8    │ 10434 │ 0      │ 69.0    │ 0            │ 0             │ 0            │ 2         │ 1              │ 94.39             │ 22.8    │ 2              │ 1      │\n",
       "│ 9    │ 27419 │ 0      │ 59.0    │ 0            │ 0             │ 1            │ 2         │ 0              │ 76.15             │ 28.8932 │ 0              │ 1      │\n",
       "│ 10   │ 60491 │ 0      │ 78.0    │ 0            │ 0             │ 1            │ 2         │ 1              │ 58.57             │ 24.2    │ 0              │ 1      │\n",
       "⋮\n",
       "│ 5100 │ 7293  │ 1      │ 40.0    │ 0            │ 0             │ 1            │ 2         │ 0              │ 83.94             │ 28.8932 │ 3              │ 0      │\n",
       "│ 5101 │ 68398 │ 1      │ 82.0    │ 1            │ 0             │ 1            │ 3         │ 0              │ 71.97             │ 28.3    │ 2              │ 0      │\n",
       "│ 5102 │ 36901 │ 0      │ 45.0    │ 0            │ 0             │ 1            │ 2         │ 1              │ 97.95             │ 24.5    │ 0              │ 0      │\n",
       "│ 5103 │ 45010 │ 0      │ 57.0    │ 0            │ 0             │ 1            │ 2         │ 0              │ 77.93             │ 21.7    │ 2              │ 0      │\n",
       "│ 5104 │ 22127 │ 0      │ 18.0    │ 0            │ 0             │ 0            │ 2         │ 1              │ 82.85             │ 46.9    │ 0              │ 0      │\n",
       "│ 5105 │ 14180 │ 0      │ 13.0    │ 0            │ 0             │ 0            │ 4         │ 0              │ 103.08            │ 18.6    │ 0              │ 0      │\n",
       "│ 5106 │ 18234 │ 0      │ 80.0    │ 1            │ 0             │ 1            │ 2         │ 1              │ 83.75             │ 28.8932 │ 2              │ 0      │\n",
       "│ 5107 │ 44873 │ 0      │ 81.0    │ 0            │ 0             │ 1            │ 3         │ 1              │ 125.2             │ 40.0    │ 2              │ 0      │\n",
       "│ 5108 │ 19723 │ 0      │ 35.0    │ 0            │ 0             │ 1            │ 3         │ 0              │ 82.99             │ 30.6    │ 2              │ 0      │\n",
       "│ 5109 │ 37544 │ 1      │ 51.0    │ 0            │ 0             │ 1            │ 2         │ 0              │ 166.29            │ 25.6    │ 1              │ 0      │\n",
       "│ 5110 │ 44679 │ 0      │ 44.0    │ 0            │ 0             │ 1            │ 0         │ 1              │ 85.28             │ 26.2    │ 0              │ 0      │"
      ]
     },
     "execution_count": 17,
     "metadata": {},
     "output_type": "execute_result"
    }
   ],
   "source": [
    "df"
   ]
  },
  {
   "cell_type": "code",
   "execution_count": 18,
   "id": "a18b59c1",
   "metadata": {},
   "outputs": [
    {
     "data": {
      "text/html": [
       "<table class=\"data-frame\"><thead><tr><th></th><th>gender</th><th>age</th><th>hypertension</th><th>heart_disease</th><th>ever_married</th><th>work_type</th><th>Residence_type</th><th>avg_glucose_level</th><th>bmi</th><th>smoking_status</th><th>stroke</th></tr><tr><th></th><th>Int64</th><th>Float64</th><th>Int64</th><th>Int64</th><th>Int64</th><th>Int64</th><th>Int64</th><th>Float64</th><th>Float64</th><th>Int64</th><th>Int64</th></tr></thead><tbody><p>5,110 rows × 11 columns</p><tr><th>1</th><td>1</td><td>67.0</td><td>0</td><td>1</td><td>1</td><td>2</td><td>1</td><td>228.69</td><td>36.6</td><td>1</td><td>1</td></tr><tr><th>2</th><td>0</td><td>61.0</td><td>0</td><td>0</td><td>1</td><td>3</td><td>0</td><td>202.21</td><td>28.8932</td><td>2</td><td>1</td></tr><tr><th>3</th><td>1</td><td>80.0</td><td>0</td><td>1</td><td>1</td><td>2</td><td>0</td><td>105.92</td><td>32.5</td><td>2</td><td>1</td></tr><tr><th>4</th><td>0</td><td>49.0</td><td>0</td><td>0</td><td>1</td><td>2</td><td>1</td><td>171.23</td><td>34.4</td><td>3</td><td>1</td></tr><tr><th>5</th><td>0</td><td>79.0</td><td>1</td><td>0</td><td>1</td><td>3</td><td>0</td><td>174.12</td><td>24.0</td><td>2</td><td>1</td></tr><tr><th>6</th><td>1</td><td>81.0</td><td>0</td><td>0</td><td>1</td><td>2</td><td>1</td><td>186.21</td><td>29.0</td><td>1</td><td>1</td></tr><tr><th>7</th><td>1</td><td>74.0</td><td>1</td><td>1</td><td>1</td><td>2</td><td>0</td><td>70.09</td><td>27.4</td><td>2</td><td>1</td></tr><tr><th>8</th><td>0</td><td>69.0</td><td>0</td><td>0</td><td>0</td><td>2</td><td>1</td><td>94.39</td><td>22.8</td><td>2</td><td>1</td></tr><tr><th>9</th><td>0</td><td>59.0</td><td>0</td><td>0</td><td>1</td><td>2</td><td>0</td><td>76.15</td><td>28.8932</td><td>0</td><td>1</td></tr><tr><th>10</th><td>0</td><td>78.0</td><td>0</td><td>0</td><td>1</td><td>2</td><td>1</td><td>58.57</td><td>24.2</td><td>0</td><td>1</td></tr><tr><th>11</th><td>0</td><td>81.0</td><td>1</td><td>0</td><td>1</td><td>2</td><td>0</td><td>80.43</td><td>29.7</td><td>2</td><td>1</td></tr><tr><th>12</th><td>0</td><td>61.0</td><td>0</td><td>1</td><td>1</td><td>0</td><td>0</td><td>120.46</td><td>36.8</td><td>3</td><td>1</td></tr><tr><th>13</th><td>0</td><td>54.0</td><td>0</td><td>0</td><td>1</td><td>2</td><td>1</td><td>104.51</td><td>27.3</td><td>3</td><td>1</td></tr><tr><th>14</th><td>1</td><td>78.0</td><td>0</td><td>1</td><td>1</td><td>2</td><td>1</td><td>219.84</td><td>28.8932</td><td>0</td><td>1</td></tr><tr><th>15</th><td>0</td><td>79.0</td><td>0</td><td>1</td><td>1</td><td>2</td><td>1</td><td>214.09</td><td>28.2</td><td>2</td><td>1</td></tr><tr><th>16</th><td>0</td><td>50.0</td><td>1</td><td>0</td><td>1</td><td>3</td><td>0</td><td>167.41</td><td>30.9</td><td>2</td><td>1</td></tr><tr><th>17</th><td>1</td><td>64.0</td><td>0</td><td>1</td><td>1</td><td>2</td><td>1</td><td>191.61</td><td>37.5</td><td>3</td><td>1</td></tr><tr><th>18</th><td>1</td><td>75.0</td><td>1</td><td>0</td><td>1</td><td>2</td><td>1</td><td>221.29</td><td>25.8</td><td>3</td><td>1</td></tr><tr><th>19</th><td>0</td><td>60.0</td><td>0</td><td>0</td><td>0</td><td>2</td><td>1</td><td>89.22</td><td>37.8</td><td>2</td><td>1</td></tr><tr><th>20</th><td>1</td><td>57.0</td><td>0</td><td>1</td><td>0</td><td>0</td><td>1</td><td>217.08</td><td>28.8932</td><td>0</td><td>1</td></tr><tr><th>21</th><td>0</td><td>71.0</td><td>0</td><td>0</td><td>1</td><td>0</td><td>0</td><td>193.94</td><td>22.4</td><td>3</td><td>1</td></tr><tr><th>22</th><td>0</td><td>52.0</td><td>1</td><td>0</td><td>1</td><td>3</td><td>1</td><td>233.29</td><td>48.9</td><td>2</td><td>1</td></tr><tr><th>23</th><td>0</td><td>79.0</td><td>0</td><td>0</td><td>1</td><td>3</td><td>1</td><td>228.7</td><td>26.6</td><td>2</td><td>1</td></tr><tr><th>24</th><td>1</td><td>82.0</td><td>0</td><td>1</td><td>1</td><td>2</td><td>0</td><td>208.3</td><td>32.5</td><td>0</td><td>1</td></tr><tr><th>25</th><td>1</td><td>71.0</td><td>0</td><td>0</td><td>1</td><td>2</td><td>1</td><td>102.87</td><td>27.2</td><td>1</td><td>1</td></tr><tr><th>26</th><td>1</td><td>80.0</td><td>0</td><td>0</td><td>1</td><td>3</td><td>0</td><td>104.12</td><td>23.5</td><td>2</td><td>1</td></tr><tr><th>27</th><td>0</td><td>65.0</td><td>0</td><td>0</td><td>1</td><td>2</td><td>0</td><td>100.98</td><td>28.2</td><td>1</td><td>1</td></tr><tr><th>28</th><td>1</td><td>58.0</td><td>0</td><td>0</td><td>1</td><td>2</td><td>0</td><td>189.84</td><td>28.8932</td><td>0</td><td>1</td></tr><tr><th>29</th><td>1</td><td>69.0</td><td>0</td><td>1</td><td>1</td><td>3</td><td>1</td><td>195.23</td><td>28.3</td><td>3</td><td>1</td></tr><tr><th>30</th><td>1</td><td>59.0</td><td>0</td><td>0</td><td>1</td><td>2</td><td>0</td><td>211.78</td><td>28.8932</td><td>1</td><td>1</td></tr><tr><th>&vellip;</th><td>&vellip;</td><td>&vellip;</td><td>&vellip;</td><td>&vellip;</td><td>&vellip;</td><td>&vellip;</td><td>&vellip;</td><td>&vellip;</td><td>&vellip;</td><td>&vellip;</td><td>&vellip;</td></tr></tbody></table>"
      ],
      "text/latex": [
       "\\begin{tabular}{r|ccccccccccc}\n",
       "\t& gender & age & hypertension & heart\\_disease & ever\\_married & work\\_type & Residence\\_type & avg\\_glucose\\_level & bmi & smoking\\_status & stroke\\\\\n",
       "\t\\hline\n",
       "\t& Int64 & Float64 & Int64 & Int64 & Int64 & Int64 & Int64 & Float64 & Float64 & Int64 & Int64\\\\\n",
       "\t\\hline\n",
       "\t1 & 1 & 67.0 & 0 & 1 & 1 & 2 & 1 & 228.69 & 36.6 & 1 & 1 \\\\\n",
       "\t2 & 0 & 61.0 & 0 & 0 & 1 & 3 & 0 & 202.21 & 28.8932 & 2 & 1 \\\\\n",
       "\t3 & 1 & 80.0 & 0 & 1 & 1 & 2 & 0 & 105.92 & 32.5 & 2 & 1 \\\\\n",
       "\t4 & 0 & 49.0 & 0 & 0 & 1 & 2 & 1 & 171.23 & 34.4 & 3 & 1 \\\\\n",
       "\t5 & 0 & 79.0 & 1 & 0 & 1 & 3 & 0 & 174.12 & 24.0 & 2 & 1 \\\\\n",
       "\t6 & 1 & 81.0 & 0 & 0 & 1 & 2 & 1 & 186.21 & 29.0 & 1 & 1 \\\\\n",
       "\t7 & 1 & 74.0 & 1 & 1 & 1 & 2 & 0 & 70.09 & 27.4 & 2 & 1 \\\\\n",
       "\t8 & 0 & 69.0 & 0 & 0 & 0 & 2 & 1 & 94.39 & 22.8 & 2 & 1 \\\\\n",
       "\t9 & 0 & 59.0 & 0 & 0 & 1 & 2 & 0 & 76.15 & 28.8932 & 0 & 1 \\\\\n",
       "\t10 & 0 & 78.0 & 0 & 0 & 1 & 2 & 1 & 58.57 & 24.2 & 0 & 1 \\\\\n",
       "\t11 & 0 & 81.0 & 1 & 0 & 1 & 2 & 0 & 80.43 & 29.7 & 2 & 1 \\\\\n",
       "\t12 & 0 & 61.0 & 0 & 1 & 1 & 0 & 0 & 120.46 & 36.8 & 3 & 1 \\\\\n",
       "\t13 & 0 & 54.0 & 0 & 0 & 1 & 2 & 1 & 104.51 & 27.3 & 3 & 1 \\\\\n",
       "\t14 & 1 & 78.0 & 0 & 1 & 1 & 2 & 1 & 219.84 & 28.8932 & 0 & 1 \\\\\n",
       "\t15 & 0 & 79.0 & 0 & 1 & 1 & 2 & 1 & 214.09 & 28.2 & 2 & 1 \\\\\n",
       "\t16 & 0 & 50.0 & 1 & 0 & 1 & 3 & 0 & 167.41 & 30.9 & 2 & 1 \\\\\n",
       "\t17 & 1 & 64.0 & 0 & 1 & 1 & 2 & 1 & 191.61 & 37.5 & 3 & 1 \\\\\n",
       "\t18 & 1 & 75.0 & 1 & 0 & 1 & 2 & 1 & 221.29 & 25.8 & 3 & 1 \\\\\n",
       "\t19 & 0 & 60.0 & 0 & 0 & 0 & 2 & 1 & 89.22 & 37.8 & 2 & 1 \\\\\n",
       "\t20 & 1 & 57.0 & 0 & 1 & 0 & 0 & 1 & 217.08 & 28.8932 & 0 & 1 \\\\\n",
       "\t21 & 0 & 71.0 & 0 & 0 & 1 & 0 & 0 & 193.94 & 22.4 & 3 & 1 \\\\\n",
       "\t22 & 0 & 52.0 & 1 & 0 & 1 & 3 & 1 & 233.29 & 48.9 & 2 & 1 \\\\\n",
       "\t23 & 0 & 79.0 & 0 & 0 & 1 & 3 & 1 & 228.7 & 26.6 & 2 & 1 \\\\\n",
       "\t24 & 1 & 82.0 & 0 & 1 & 1 & 2 & 0 & 208.3 & 32.5 & 0 & 1 \\\\\n",
       "\t25 & 1 & 71.0 & 0 & 0 & 1 & 2 & 1 & 102.87 & 27.2 & 1 & 1 \\\\\n",
       "\t26 & 1 & 80.0 & 0 & 0 & 1 & 3 & 0 & 104.12 & 23.5 & 2 & 1 \\\\\n",
       "\t27 & 0 & 65.0 & 0 & 0 & 1 & 2 & 0 & 100.98 & 28.2 & 1 & 1 \\\\\n",
       "\t28 & 1 & 58.0 & 0 & 0 & 1 & 2 & 0 & 189.84 & 28.8932 & 0 & 1 \\\\\n",
       "\t29 & 1 & 69.0 & 0 & 1 & 1 & 3 & 1 & 195.23 & 28.3 & 3 & 1 \\\\\n",
       "\t30 & 1 & 59.0 & 0 & 0 & 1 & 2 & 0 & 211.78 & 28.8932 & 1 & 1 \\\\\n",
       "\t$\\dots$ & $\\dots$ & $\\dots$ & $\\dots$ & $\\dots$ & $\\dots$ & $\\dots$ & $\\dots$ & $\\dots$ & $\\dots$ & $\\dots$ & $\\dots$ \\\\\n",
       "\\end{tabular}\n"
      ],
      "text/plain": [
       "5110×11 typename(DataFrame)\n",
       "│ Row  │ gender │ age     │ hypertension │ heart_disease │ ever_married │ work_type │ Residence_type │ avg_glucose_level │ bmi     │ smoking_status │ stroke │\n",
       "│      │ \u001b[90mInt64\u001b[39m  │ \u001b[90mFloat64\u001b[39m │ \u001b[90mInt64\u001b[39m        │ \u001b[90mInt64\u001b[39m         │ \u001b[90mInt64\u001b[39m        │ \u001b[90mInt64\u001b[39m     │ \u001b[90mInt64\u001b[39m          │ \u001b[90mFloat64\u001b[39m           │ \u001b[90mFloat64\u001b[39m │ \u001b[90mInt64\u001b[39m          │ \u001b[90mInt64\u001b[39m  │\n",
       "├──────┼────────┼─────────┼──────────────┼───────────────┼──────────────┼───────────┼────────────────┼───────────────────┼─────────┼────────────────┼────────┤\n",
       "│ 1    │ 1      │ 67.0    │ 0            │ 1             │ 1            │ 2         │ 1              │ 228.69            │ 36.6    │ 1              │ 1      │\n",
       "│ 2    │ 0      │ 61.0    │ 0            │ 0             │ 1            │ 3         │ 0              │ 202.21            │ 28.8932 │ 2              │ 1      │\n",
       "│ 3    │ 1      │ 80.0    │ 0            │ 1             │ 1            │ 2         │ 0              │ 105.92            │ 32.5    │ 2              │ 1      │\n",
       "│ 4    │ 0      │ 49.0    │ 0            │ 0             │ 1            │ 2         │ 1              │ 171.23            │ 34.4    │ 3              │ 1      │\n",
       "│ 5    │ 0      │ 79.0    │ 1            │ 0             │ 1            │ 3         │ 0              │ 174.12            │ 24.0    │ 2              │ 1      │\n",
       "│ 6    │ 1      │ 81.0    │ 0            │ 0             │ 1            │ 2         │ 1              │ 186.21            │ 29.0    │ 1              │ 1      │\n",
       "│ 7    │ 1      │ 74.0    │ 1            │ 1             │ 1            │ 2         │ 0              │ 70.09             │ 27.4    │ 2              │ 1      │\n",
       "│ 8    │ 0      │ 69.0    │ 0            │ 0             │ 0            │ 2         │ 1              │ 94.39             │ 22.8    │ 2              │ 1      │\n",
       "│ 9    │ 0      │ 59.0    │ 0            │ 0             │ 1            │ 2         │ 0              │ 76.15             │ 28.8932 │ 0              │ 1      │\n",
       "│ 10   │ 0      │ 78.0    │ 0            │ 0             │ 1            │ 2         │ 1              │ 58.57             │ 24.2    │ 0              │ 1      │\n",
       "⋮\n",
       "│ 5100 │ 1      │ 40.0    │ 0            │ 0             │ 1            │ 2         │ 0              │ 83.94             │ 28.8932 │ 3              │ 0      │\n",
       "│ 5101 │ 1      │ 82.0    │ 1            │ 0             │ 1            │ 3         │ 0              │ 71.97             │ 28.3    │ 2              │ 0      │\n",
       "│ 5102 │ 0      │ 45.0    │ 0            │ 0             │ 1            │ 2         │ 1              │ 97.95             │ 24.5    │ 0              │ 0      │\n",
       "│ 5103 │ 0      │ 57.0    │ 0            │ 0             │ 1            │ 2         │ 0              │ 77.93             │ 21.7    │ 2              │ 0      │\n",
       "│ 5104 │ 0      │ 18.0    │ 0            │ 0             │ 0            │ 2         │ 1              │ 82.85             │ 46.9    │ 0              │ 0      │\n",
       "│ 5105 │ 0      │ 13.0    │ 0            │ 0             │ 0            │ 4         │ 0              │ 103.08            │ 18.6    │ 0              │ 0      │\n",
       "│ 5106 │ 0      │ 80.0    │ 1            │ 0             │ 1            │ 2         │ 1              │ 83.75             │ 28.8932 │ 2              │ 0      │\n",
       "│ 5107 │ 0      │ 81.0    │ 0            │ 0             │ 1            │ 3         │ 1              │ 125.2             │ 40.0    │ 2              │ 0      │\n",
       "│ 5108 │ 0      │ 35.0    │ 0            │ 0             │ 1            │ 3         │ 0              │ 82.99             │ 30.6    │ 2              │ 0      │\n",
       "│ 5109 │ 1      │ 51.0    │ 0            │ 0             │ 1            │ 2         │ 0              │ 166.29            │ 25.6    │ 1              │ 0      │\n",
       "│ 5110 │ 0      │ 44.0    │ 0            │ 0             │ 1            │ 0         │ 1              │ 85.28             │ 26.2    │ 0              │ 0      │"
      ]
     },
     "execution_count": 18,
     "metadata": {},
     "output_type": "execute_result"
    }
   ],
   "source": [
    "deletecols!(df, 1)"
   ]
  },
  {
   "cell_type": "code",
   "execution_count": 19,
   "id": "9c2a1896",
   "metadata": {},
   "outputs": [
    {
     "data": {
      "text/plain": [
       "Dict{Int64, Int64} with 2 entries:\n",
       "  0 => 4861\n",
       "  1 => 249"
      ]
     },
     "execution_count": 19,
     "metadata": {},
     "output_type": "execute_result"
    }
   ],
   "source": [
    "countmap(df.stroke)"
   ]
  },
  {
   "cell_type": "code",
   "execution_count": 20,
   "id": "5c1c4a08",
   "metadata": {},
   "outputs": [
    {
     "data": {
      "text/plain": [
       "1494-element Vector{Int64}:\n",
       " 1\n",
       " 1\n",
       " 0\n",
       " 0\n",
       " 1\n",
       " 0\n",
       " 0\n",
       " 1\n",
       " 0\n",
       " 1\n",
       " 1\n",
       " 1\n",
       " 1\n",
       " ⋮\n",
       " 0\n",
       " 1\n",
       " 0\n",
       " 1\n",
       " 0\n",
       " 1\n",
       " 1\n",
       " 0\n",
       " 0\n",
       " 0\n",
       " 0\n",
       " 0"
      ]
     },
     "execution_count": 20,
     "metadata": {},
     "output_type": "execute_result"
    }
   ],
   "source": [
    "X2, y2 =smote(df[!,[:gender,:age ,:hypertension, :heart_disease, :ever_married, :work_type, :Residence_type, :avg_glucose_level, :bmi , :smoking_status]], df.stroke, k = 5, pct_under = 150, pct_over = 200)\n",
    "df_balanced = X2\n",
    "df_balanced.stroke = y2"
   ]
  },
  {
   "cell_type": "code",
   "execution_count": 21,
   "id": "122c9120",
   "metadata": {},
   "outputs": [
    {
     "data": {
      "text/html": [
       "<table class=\"data-frame\"><thead><tr><th></th><th>gender</th><th>age</th><th>hypertension</th><th>heart_disease</th><th>ever_married</th><th>work_type</th><th>Residence_type</th><th>avg_glucose_level</th><th>bmi</th><th>smoking_status</th><th>stroke</th></tr><tr><th></th><th>Float64</th><th>Float64</th><th>Float64</th><th>Float64</th><th>Float64</th><th>Float64</th><th>Float64</th><th>Float64</th><th>Float64</th><th>Float64</th><th>Int64</th></tr></thead><tbody><p>1,494 rows × 11 columns</p><tr><th>1</th><td>0.0</td><td>70.0</td><td>0.0</td><td>0.0</td><td>1.0</td><td>2.0</td><td>1.0</td><td>221.58</td><td>47.5</td><td>2.0</td><td>1</td></tr><tr><th>2</th><td>0.0</td><td>53.0</td><td>0.0</td><td>0.0</td><td>1.0</td><td>0.0</td><td>1.0</td><td>64.17</td><td>41.5</td><td>2.0</td><td>1</td></tr><tr><th>3</th><td>0.0</td><td>21.0</td><td>0.0</td><td>0.0</td><td>0.0</td><td>2.0</td><td>0.0</td><td>85.86</td><td>35.4</td><td>0.0</td><td>0</td></tr><tr><th>4</th><td>1.0</td><td>9.0</td><td>0.0</td><td>0.0</td><td>0.0</td><td>4.0</td><td>0.0</td><td>94.59</td><td>20.0</td><td>0.0</td><td>0</td></tr><tr><th>5</th><td>0.0</td><td>70.0</td><td>0.0</td><td>1.0</td><td>1.0</td><td>2.0</td><td>0.0</td><td>191.999</td><td>27.7239</td><td>1.73808</td><td>1</td></tr><tr><th>6</th><td>1.0</td><td>1.64</td><td>0.0</td><td>0.0</td><td>0.0</td><td>4.0</td><td>1.0</td><td>115.12</td><td>21.1</td><td>0.0</td><td>0</td></tr><tr><th>7</th><td>1.0</td><td>22.0</td><td>0.0</td><td>0.0</td><td>0.0</td><td>2.0</td><td>0.0</td><td>86.53</td><td>20.8</td><td>2.0</td><td>0</td></tr><tr><th>8</th><td>0.0</td><td>79.0</td><td>0.0</td><td>0.0</td><td>1.0</td><td>2.0</td><td>1.0</td><td>97.73</td><td>21.5</td><td>3.0</td><td>1</td></tr><tr><th>9</th><td>1.0</td><td>51.0</td><td>0.0</td><td>0.0</td><td>1.0</td><td>3.0</td><td>1.0</td><td>75.73</td><td>30.7</td><td>2.0</td><td>0</td></tr><tr><th>10</th><td>0.0</td><td>78.7365</td><td>1.0</td><td>0.0</td><td>1.0</td><td>2.95609</td><td>0.0</td><td>174.823</td><td>24.5489</td><td>2.0</td><td>1</td></tr><tr><th>11</th><td>0.0</td><td>67.0</td><td>1.0</td><td>0.0</td><td>1.0</td><td>2.0</td><td>0.0</td><td>179.12</td><td>28.1</td><td>1.0</td><td>1</td></tr><tr><th>12</th><td>1.0</td><td>54.0</td><td>0.0</td><td>0.0</td><td>1.0</td><td>0.0</td><td>0.0</td><td>87.85</td><td>31.1</td><td>3.0</td><td>1</td></tr><tr><th>13</th><td>1.0</td><td>67.2262</td><td>0.0</td><td>1.0</td><td>1.0</td><td>2.0</td><td>0.0</td><td>118.095</td><td>25.6743</td><td>2.3082</td><td>1</td></tr><tr><th>14</th><td>1.0</td><td>50.5983</td><td>0.0</td><td>0.0</td><td>1.0</td><td>2.0</td><td>1.0</td><td>94.1666</td><td>38.3713</td><td>1.0</td><td>1</td></tr><tr><th>15</th><td>1.0</td><td>70.03</td><td>0.0</td><td>0.0</td><td>1.0</td><td>2.0</td><td>1.0</td><td>75.2775</td><td>30.7028</td><td>3.0</td><td>1</td></tr><tr><th>16</th><td>1.0</td><td>57.0584</td><td>0.0</td><td>0.0</td><td>1.0</td><td>2.0</td><td>0.0</td><td>197.703</td><td>34.3363</td><td>1.0</td><td>1</td></tr><tr><th>17</th><td>1.0</td><td>41.0</td><td>1.0</td><td>0.0</td><td>1.0</td><td>2.0</td><td>1.0</td><td>69.52</td><td>31.9</td><td>2.0</td><td>0</td></tr><tr><th>18</th><td>0.0</td><td>68.0</td><td>1.0</td><td>1.0</td><td>1.0</td><td>2.0</td><td>1.0</td><td>247.51</td><td>40.5</td><td>1.0</td><td>1</td></tr><tr><th>19</th><td>1.0</td><td>76.0</td><td>1.0</td><td>0.0</td><td>1.0</td><td>2.0</td><td>0.0</td><td>243.58</td><td>33.6</td><td>2.0</td><td>1</td></tr><tr><th>20</th><td>1.0</td><td>12.0</td><td>0.0</td><td>0.0</td><td>0.0</td><td>4.0</td><td>1.0</td><td>67.06</td><td>16.1</td><td>0.0</td><td>0</td></tr><tr><th>21</th><td>0.0</td><td>65.4819</td><td>0.0</td><td>1.0</td><td>1.0</td><td>0.497986</td><td>0.0</td><td>122.161</td><td>34.5342</td><td>2.75101</td><td>1</td></tr><tr><th>22</th><td>0.0</td><td>80.1714</td><td>1.0</td><td>0.0</td><td>1.0</td><td>2.0</td><td>0.0</td><td>75.8476</td><td>23.4852</td><td>2.0</td><td>1</td></tr><tr><th>23</th><td>0.0</td><td>45.0</td><td>0.0</td><td>0.0</td><td>1.0</td><td>2.0</td><td>1.0</td><td>100.84</td><td>21.0</td><td>2.0</td><td>0</td></tr><tr><th>24</th><td>0.0</td><td>41.8509</td><td>0.0</td><td>0.0</td><td>1.0</td><td>2.0</td><td>1.0</td><td>81.1792</td><td>28.1327</td><td>2.0</td><td>1</td></tr><tr><th>25</th><td>1.0</td><td>72.0</td><td>0.0</td><td>0.0</td><td>1.0</td><td>2.0</td><td>1.0</td><td>81.05</td><td>30.3</td><td>0.0</td><td>0</td></tr><tr><th>26</th><td>0.0</td><td>20.0</td><td>0.0</td><td>0.0</td><td>0.0</td><td>2.0</td><td>0.0</td><td>84.07</td><td>27.6</td><td>3.0</td><td>0</td></tr><tr><th>27</th><td>1.0</td><td>71.0</td><td>0.0</td><td>0.0</td><td>1.0</td><td>2.0</td><td>1.0</td><td>102.87</td><td>27.2</td><td>1.0</td><td>1</td></tr><tr><th>28</th><td>0.0</td><td>26.0</td><td>0.0</td><td>0.0</td><td>1.0</td><td>2.0</td><td>0.0</td><td>59.17</td><td>20.0</td><td>0.0</td><td>0</td></tr><tr><th>29</th><td>0.0</td><td>65.2557</td><td>0.0</td><td>0.0</td><td>1.0</td><td>2.0</td><td>1.0</td><td>206.578</td><td>46.0767</td><td>1.05113</td><td>1</td></tr><tr><th>30</th><td>1.0</td><td>0.16</td><td>0.0</td><td>0.0</td><td>0.0</td><td>4.0</td><td>1.0</td><td>109.52</td><td>13.9</td><td>0.0</td><td>0</td></tr><tr><th>&vellip;</th><td>&vellip;</td><td>&vellip;</td><td>&vellip;</td><td>&vellip;</td><td>&vellip;</td><td>&vellip;</td><td>&vellip;</td><td>&vellip;</td><td>&vellip;</td><td>&vellip;</td><td>&vellip;</td></tr></tbody></table>"
      ],
      "text/latex": [
       "\\begin{tabular}{r|ccccccccccc}\n",
       "\t& gender & age & hypertension & heart\\_disease & ever\\_married & work\\_type & Residence\\_type & avg\\_glucose\\_level & bmi & smoking\\_status & stroke\\\\\n",
       "\t\\hline\n",
       "\t& Float64 & Float64 & Float64 & Float64 & Float64 & Float64 & Float64 & Float64 & Float64 & Float64 & Int64\\\\\n",
       "\t\\hline\n",
       "\t1 & 0.0 & 70.0 & 0.0 & 0.0 & 1.0 & 2.0 & 1.0 & 221.58 & 47.5 & 2.0 & 1 \\\\\n",
       "\t2 & 0.0 & 53.0 & 0.0 & 0.0 & 1.0 & 0.0 & 1.0 & 64.17 & 41.5 & 2.0 & 1 \\\\\n",
       "\t3 & 0.0 & 21.0 & 0.0 & 0.0 & 0.0 & 2.0 & 0.0 & 85.86 & 35.4 & 0.0 & 0 \\\\\n",
       "\t4 & 1.0 & 9.0 & 0.0 & 0.0 & 0.0 & 4.0 & 0.0 & 94.59 & 20.0 & 0.0 & 0 \\\\\n",
       "\t5 & 0.0 & 70.0 & 0.0 & 1.0 & 1.0 & 2.0 & 0.0 & 191.999 & 27.7239 & 1.73808 & 1 \\\\\n",
       "\t6 & 1.0 & 1.64 & 0.0 & 0.0 & 0.0 & 4.0 & 1.0 & 115.12 & 21.1 & 0.0 & 0 \\\\\n",
       "\t7 & 1.0 & 22.0 & 0.0 & 0.0 & 0.0 & 2.0 & 0.0 & 86.53 & 20.8 & 2.0 & 0 \\\\\n",
       "\t8 & 0.0 & 79.0 & 0.0 & 0.0 & 1.0 & 2.0 & 1.0 & 97.73 & 21.5 & 3.0 & 1 \\\\\n",
       "\t9 & 1.0 & 51.0 & 0.0 & 0.0 & 1.0 & 3.0 & 1.0 & 75.73 & 30.7 & 2.0 & 0 \\\\\n",
       "\t10 & 0.0 & 78.7365 & 1.0 & 0.0 & 1.0 & 2.95609 & 0.0 & 174.823 & 24.5489 & 2.0 & 1 \\\\\n",
       "\t11 & 0.0 & 67.0 & 1.0 & 0.0 & 1.0 & 2.0 & 0.0 & 179.12 & 28.1 & 1.0 & 1 \\\\\n",
       "\t12 & 1.0 & 54.0 & 0.0 & 0.0 & 1.0 & 0.0 & 0.0 & 87.85 & 31.1 & 3.0 & 1 \\\\\n",
       "\t13 & 1.0 & 67.2262 & 0.0 & 1.0 & 1.0 & 2.0 & 0.0 & 118.095 & 25.6743 & 2.3082 & 1 \\\\\n",
       "\t14 & 1.0 & 50.5983 & 0.0 & 0.0 & 1.0 & 2.0 & 1.0 & 94.1666 & 38.3713 & 1.0 & 1 \\\\\n",
       "\t15 & 1.0 & 70.03 & 0.0 & 0.0 & 1.0 & 2.0 & 1.0 & 75.2775 & 30.7028 & 3.0 & 1 \\\\\n",
       "\t16 & 1.0 & 57.0584 & 0.0 & 0.0 & 1.0 & 2.0 & 0.0 & 197.703 & 34.3363 & 1.0 & 1 \\\\\n",
       "\t17 & 1.0 & 41.0 & 1.0 & 0.0 & 1.0 & 2.0 & 1.0 & 69.52 & 31.9 & 2.0 & 0 \\\\\n",
       "\t18 & 0.0 & 68.0 & 1.0 & 1.0 & 1.0 & 2.0 & 1.0 & 247.51 & 40.5 & 1.0 & 1 \\\\\n",
       "\t19 & 1.0 & 76.0 & 1.0 & 0.0 & 1.0 & 2.0 & 0.0 & 243.58 & 33.6 & 2.0 & 1 \\\\\n",
       "\t20 & 1.0 & 12.0 & 0.0 & 0.0 & 0.0 & 4.0 & 1.0 & 67.06 & 16.1 & 0.0 & 0 \\\\\n",
       "\t21 & 0.0 & 65.4819 & 0.0 & 1.0 & 1.0 & 0.497986 & 0.0 & 122.161 & 34.5342 & 2.75101 & 1 \\\\\n",
       "\t22 & 0.0 & 80.1714 & 1.0 & 0.0 & 1.0 & 2.0 & 0.0 & 75.8476 & 23.4852 & 2.0 & 1 \\\\\n",
       "\t23 & 0.0 & 45.0 & 0.0 & 0.0 & 1.0 & 2.0 & 1.0 & 100.84 & 21.0 & 2.0 & 0 \\\\\n",
       "\t24 & 0.0 & 41.8509 & 0.0 & 0.0 & 1.0 & 2.0 & 1.0 & 81.1792 & 28.1327 & 2.0 & 1 \\\\\n",
       "\t25 & 1.0 & 72.0 & 0.0 & 0.0 & 1.0 & 2.0 & 1.0 & 81.05 & 30.3 & 0.0 & 0 \\\\\n",
       "\t26 & 0.0 & 20.0 & 0.0 & 0.0 & 0.0 & 2.0 & 0.0 & 84.07 & 27.6 & 3.0 & 0 \\\\\n",
       "\t27 & 1.0 & 71.0 & 0.0 & 0.0 & 1.0 & 2.0 & 1.0 & 102.87 & 27.2 & 1.0 & 1 \\\\\n",
       "\t28 & 0.0 & 26.0 & 0.0 & 0.0 & 1.0 & 2.0 & 0.0 & 59.17 & 20.0 & 0.0 & 0 \\\\\n",
       "\t29 & 0.0 & 65.2557 & 0.0 & 0.0 & 1.0 & 2.0 & 1.0 & 206.578 & 46.0767 & 1.05113 & 1 \\\\\n",
       "\t30 & 1.0 & 0.16 & 0.0 & 0.0 & 0.0 & 4.0 & 1.0 & 109.52 & 13.9 & 0.0 & 0 \\\\\n",
       "\t$\\dots$ & $\\dots$ & $\\dots$ & $\\dots$ & $\\dots$ & $\\dots$ & $\\dots$ & $\\dots$ & $\\dots$ & $\\dots$ & $\\dots$ & $\\dots$ \\\\\n",
       "\\end{tabular}\n"
      ],
      "text/plain": [
       "1494×11 typename(DataFrame)\n",
       "│ Row  │ gender  │ age     │ hypertension │ heart_disease │ ever_married │ work_type │ Residence_type │ avg_glucose_level │ bmi     │ smoking_status │ stroke │\n",
       "│      │ \u001b[90mFloat64\u001b[39m │ \u001b[90mFloat64\u001b[39m │ \u001b[90mFloat64\u001b[39m      │ \u001b[90mFloat64\u001b[39m       │ \u001b[90mFloat64\u001b[39m      │ \u001b[90mFloat64\u001b[39m   │ \u001b[90mFloat64\u001b[39m        │ \u001b[90mFloat64\u001b[39m           │ \u001b[90mFloat64\u001b[39m │ \u001b[90mFloat64\u001b[39m        │ \u001b[90mInt64\u001b[39m  │\n",
       "├──────┼─────────┼─────────┼──────────────┼───────────────┼──────────────┼───────────┼────────────────┼───────────────────┼─────────┼────────────────┼────────┤\n",
       "│ 1    │ 0.0     │ 70.0    │ 0.0          │ 0.0           │ 1.0          │ 2.0       │ 1.0            │ 221.58            │ 47.5    │ 2.0            │ 1      │\n",
       "│ 2    │ 0.0     │ 53.0    │ 0.0          │ 0.0           │ 1.0          │ 0.0       │ 1.0            │ 64.17             │ 41.5    │ 2.0            │ 1      │\n",
       "│ 3    │ 0.0     │ 21.0    │ 0.0          │ 0.0           │ 0.0          │ 2.0       │ 0.0            │ 85.86             │ 35.4    │ 0.0            │ 0      │\n",
       "│ 4    │ 1.0     │ 9.0     │ 0.0          │ 0.0           │ 0.0          │ 4.0       │ 0.0            │ 94.59             │ 20.0    │ 0.0            │ 0      │\n",
       "│ 5    │ 0.0     │ 70.0    │ 0.0          │ 1.0           │ 1.0          │ 2.0       │ 0.0            │ 191.999           │ 27.7239 │ 1.73808        │ 1      │\n",
       "│ 6    │ 1.0     │ 1.64    │ 0.0          │ 0.0           │ 0.0          │ 4.0       │ 1.0            │ 115.12            │ 21.1    │ 0.0            │ 0      │\n",
       "│ 7    │ 1.0     │ 22.0    │ 0.0          │ 0.0           │ 0.0          │ 2.0       │ 0.0            │ 86.53             │ 20.8    │ 2.0            │ 0      │\n",
       "│ 8    │ 0.0     │ 79.0    │ 0.0          │ 0.0           │ 1.0          │ 2.0       │ 1.0            │ 97.73             │ 21.5    │ 3.0            │ 1      │\n",
       "│ 9    │ 1.0     │ 51.0    │ 0.0          │ 0.0           │ 1.0          │ 3.0       │ 1.0            │ 75.73             │ 30.7    │ 2.0            │ 0      │\n",
       "│ 10   │ 0.0     │ 78.7365 │ 1.0          │ 0.0           │ 1.0          │ 2.95609   │ 0.0            │ 174.823           │ 24.5489 │ 2.0            │ 1      │\n",
       "⋮\n",
       "│ 1484 │ 1.0     │ 75.0    │ 0.0          │ 0.0           │ 1.0          │ 2.0       │ 1.0            │ 104.72            │ 28.8932 │ 0.0            │ 1      │\n",
       "│ 1485 │ 0.0     │ 15.0    │ 0.0          │ 0.0           │ 0.0          │ 2.0       │ 0.0            │ 82.19             │ 40.5    │ 2.0            │ 0      │\n",
       "│ 1486 │ 1.0     │ 59.0    │ 0.0          │ 0.0           │ 1.0          │ 2.0       │ 1.0            │ 200.62            │ 35.8    │ 1.0            │ 1      │\n",
       "│ 1487 │ 1.0     │ 58.0    │ 0.0          │ 0.0           │ 1.0          │ 2.0       │ 0.0            │ 135.89            │ 23.1    │ 1.0            │ 0      │\n",
       "│ 1488 │ 1.0     │ 68.8759 │ 0.0          │ 0.0           │ 1.0          │ 2.0       │ 1.0            │ 99.9245           │ 27.6956 │ 1.0            │ 1      │\n",
       "│ 1489 │ 0.0     │ 78.2699 │ 0.0          │ 0.0           │ 1.0          │ 2.0       │ 1.0            │ 66.784            │ 26.1164 │ 0.432525       │ 1      │\n",
       "│ 1490 │ 1.0     │ 58.0    │ 0.0          │ 0.0           │ 1.0          │ 0.0       │ 0.0            │ 111.73            │ 34.6    │ 2.0            │ 0      │\n",
       "│ 1491 │ 0.0     │ 34.0    │ 0.0          │ 0.0           │ 1.0          │ 2.0       │ 0.0            │ 85.79             │ 32.0    │ 2.0            │ 0      │\n",
       "│ 1492 │ 1.0     │ 39.0    │ 0.0          │ 0.0           │ 1.0          │ 0.0       │ 1.0            │ 73.62             │ 33.4    │ 0.0            │ 0      │\n",
       "│ 1493 │ 0.0     │ 13.0    │ 0.0          │ 0.0           │ 0.0          │ 1.0       │ 1.0            │ 70.93             │ 22.9    │ 2.0            │ 0      │\n",
       "│ 1494 │ 0.0     │ 38.0    │ 0.0          │ 0.0           │ 1.0          │ 2.0       │ 0.0            │ 61.88             │ 29.0    │ 0.0            │ 0      │"
      ]
     },
     "execution_count": 21,
     "metadata": {},
     "output_type": "execute_result"
    }
   ],
   "source": [
    "df = df_balanced"
   ]
  },
  {
   "cell_type": "code",
   "execution_count": 22,
   "id": "98f060e0",
   "metadata": {},
   "outputs": [
    {
     "data": {
      "text/plain": [
       "Dict{Int64, Int64} with 2 entries:\n",
       "  0 => 747\n",
       "  1 => 747"
      ]
     },
     "execution_count": 22,
     "metadata": {},
     "output_type": "execute_result"
    }
   ],
   "source": [
    "#Count the classes\n",
    "countmap(df.stroke)"
   ]
  },
  {
   "cell_type": "code",
   "execution_count": 23,
   "id": "013b91f4",
   "metadata": {},
   "outputs": [],
   "source": [
    "#Train test split\n",
    "using Lathe.preprocess: TrainTestSplit\n",
    "train, test = TrainTestSplit(df,.70);"
   ]
  },
  {
   "cell_type": "code",
   "execution_count": 24,
   "id": "6b37eb09",
   "metadata": {},
   "outputs": [
    {
     "data": {
      "text/plain": [
       "StatsModels.TableRegressionModel{GeneralizedLinearModel{GLM.GlmResp{Vector{Float64}, Binomial{Float64}, ProbitLink}, GLM.DensePredChol{Float64, LinearAlgebra.Cholesky{Float64, Matrix{Float64}}}}, Matrix{Float64}}\n",
       "\n",
       "stroke ~ 1 + gender + age + hypertension + heart_disease + ever_married + work_type + Residence_type + avg_glucose_level + bmi + smoking_status\n",
       "\n",
       "Coefficients:\n",
       "──────────────────────────────────────────────────────────────────────────────────────\n",
       "                         Coef.   Std. Error      z  Pr(>|z|)    Lower 95%    Upper 95%\n",
       "──────────────────────────────────────────────────────────────────────────────────────\n",
       "(Intercept)        -2.98868     0.312039     -9.58    <1e-21  -3.60026     -2.37709\n",
       "gender             -0.0221287   0.0951571    -0.23    0.8161  -0.208633     0.164376\n",
       "age                 0.0425268   0.00303608   14.01    <1e-43   0.0365762    0.0484774\n",
       "hypertension        0.271924    0.122861      2.21    0.0269   0.0311206    0.512726\n",
       "heart_disease       0.289144    0.15422       1.87    0.0608  -0.0131223    0.59141\n",
       "ever_married        0.133679    0.14204       0.94    0.3466  -0.144713     0.412072\n",
       "work_type           0.0421846   0.0519969     0.81    0.4172  -0.0597274    0.144097\n",
       "Residence_type     -0.0111722   0.0931049    -0.12    0.9045  -0.193654     0.17131\n",
       "avg_glucose_level   0.0028301   0.000932124   3.04    0.0024   0.00100317   0.00465702\n",
       "bmi                 0.00116473  0.00761587    0.15    0.8784  -0.0137621    0.0160916\n",
       "smoking_status     -0.0577838   0.0481553    -1.20    0.2302  -0.152166     0.0365988\n",
       "──────────────────────────────────────────────────────────────────────────────────────"
      ]
     },
     "execution_count": 24,
     "metadata": {},
     "output_type": "execute_result"
    }
   ],
   "source": [
    "#Train logistic regression model\n",
    "fm = @formula(stroke ~ gender + age + hypertension + heart_disease + ever_married + work_type + Residence_type + avg_glucose_level + bmi + smoking_status)\n",
    "logit = glm(fm, train, Binomial(), ProbitLink())"
   ]
  },
  {
   "cell_type": "code",
   "execution_count": 25,
   "id": "4f0fe796",
   "metadata": {},
   "outputs": [
    {
     "data": {
      "text/plain": [
       "445-element Vector{Union{Missing, Float64}}:\n",
       " 0.033082840575404136\n",
       " 0.7599346808717621\n",
       " 0.9028275400138044\n",
       " 0.9072693116538992\n",
       " 0.8501714491378547\n",
       " 0.7159593191477192\n",
       " 0.7926351422521033\n",
       " 0.6149955886402599\n",
       " 0.3885472949076769\n",
       " 0.044999925977320054\n",
       " 0.782108710371664\n",
       " 0.8215839530339542\n",
       " 0.4776039098994415\n",
       " ⋮\n",
       " 0.8781963972679641\n",
       " 0.005750813264251333\n",
       " 0.39001420945182597\n",
       " 0.6949641636226551\n",
       " 0.5719892221705558\n",
       " 0.014897283601475683\n",
       " 0.2606058796103663\n",
       " 0.7628812547394352\n",
       " 0.5109698005139846\n",
       " 0.7707134996302052\n",
       " 0.16292690304256313\n",
       " 0.0109247957920621"
      ]
     },
     "execution_count": 25,
     "metadata": {},
     "output_type": "execute_result"
    }
   ],
   "source": [
    "using MLBase: predict\n",
    "prediction = predict(logit,test)"
   ]
  },
  {
   "cell_type": "code",
   "execution_count": 26,
   "id": "75d8ccb4",
   "metadata": {},
   "outputs": [
    {
     "data": {
      "text/plain": [
       "445-element BitVector:\n",
       " 1\n",
       " 1\n",
       " 1\n",
       " 1\n",
       " 1\n",
       " 1\n",
       " 1\n",
       " 1\n",
       " 0\n",
       " 1\n",
       " 0\n",
       " 1\n",
       " 1\n",
       " ⋮\n",
       " 1\n",
       " 1\n",
       " 1\n",
       " 1\n",
       " 0\n",
       " 1\n",
       " 1\n",
       " 1\n",
       " 0\n",
       " 1\n",
       " 1\n",
       " 1"
      ]
     },
     "execution_count": 26,
     "metadata": {},
     "output_type": "execute_result"
    }
   ],
   "source": [
    "#Convert probability score to class\n",
    "prediction_class = [if x < 0.5 0 else 1 end for x in prediction];\n",
    "prediction_df = DataFrame(y_actual = test.stroke, y_predicted = prediction_class, prob_predicted = prediction);\n",
    "prediction_df.correctly_classified = prediction_df.y_actual .== prediction_df.y_predicted"
   ]
  },
  {
   "cell_type": "code",
   "execution_count": 27,
   "id": "c23057a0",
   "metadata": {},
   "outputs": [
    {
     "name": "stdout",
     "output_type": "stream",
     "text": [
      "Accuracy of the model is : 0.7932584269662921"
     ]
    }
   ],
   "source": [
    "#Accuracy Score\n",
    "accuracy = mean(prediction_df.correctly_classified)\n",
    "print(\"Accuracy of the model is : \",accuracy)"
   ]
  },
  {
   "cell_type": "code",
   "execution_count": 28,
   "id": "711d21e2",
   "metadata": {},
   "outputs": [
    {
     "data": {
      "text/plain": [
       "ROCNums{Int64}\n",
       "  p = 224\n",
       "  n = 221\n",
       "  tp = 188\n",
       "  tn = 165\n",
       "  fp = 56\n",
       "  fn = 36\n"
      ]
     },
     "execution_count": 28,
     "metadata": {},
     "output_type": "execute_result"
    }
   ],
   "source": [
    "#Confusion Matrix\n",
    "confusion_matrix = MLBase.roc(prediction_df.y_actual, prediction_df.y_predicted)"
   ]
  },
  {
   "cell_type": "code",
   "execution_count": null,
   "id": "47248284",
   "metadata": {},
   "outputs": [],
   "source": []
  }
 ],
 "metadata": {
  "kernelspec": {
   "display_name": "Julia 1.7.2",
   "language": "julia",
   "name": "julia-1.7"
  },
  "language_info": {
   "file_extension": ".jl",
   "mimetype": "application/julia",
   "name": "julia",
   "version": "1.7.2"
  }
 },
 "nbformat": 4,
 "nbformat_minor": 5
}
